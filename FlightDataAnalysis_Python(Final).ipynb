{
 "cells": [
  {
   "cell_type": "markdown",
   "metadata": {
    "id": "Jo_QK76lEvHO"
   },
   "source": [
    "# Flight Data Analysis"
   ]
  },
  {
   "cell_type": "code",
   "execution_count": 2,
   "metadata": {
    "id": "ZYdpXKBczzUF"
   },
   "outputs": [],
   "source": [
    "# importing necessary libraries \n",
    "import numpy as np\n",
    "import pandas as pd\n",
    "import matplotlib.pyplot as plt\n",
    "from matplotlib import cm"
   ]
  },
  {
   "cell_type": "code",
   "execution_count": 15,
   "metadata": {
    "colab": {
     "base_uri": "https://localhost:8080/",
     "height": 488
    },
    "id": "G_Kter7t0RdN",
    "outputId": "effe5e23-2c4b-4168-b67d-49a4fdab9795"
   },
   "outputs": [
    {
     "data": {
      "text/html": [
       "<div>\n",
       "<style scoped>\n",
       "    .dataframe tbody tr th:only-of-type {\n",
       "        vertical-align: middle;\n",
       "    }\n",
       "\n",
       "    .dataframe tbody tr th {\n",
       "        vertical-align: top;\n",
       "    }\n",
       "\n",
       "    .dataframe thead th {\n",
       "        text-align: right;\n",
       "    }\n",
       "</style>\n",
       "<table border=\"1\" class=\"dataframe\">\n",
       "  <thead>\n",
       "    <tr style=\"text-align: right;\">\n",
       "      <th></th>\n",
       "      <th>Year</th>\n",
       "      <th>Month</th>\n",
       "      <th>DayofMonth</th>\n",
       "      <th>DayOfWeek</th>\n",
       "      <th>DepTime</th>\n",
       "      <th>CRSDepTime</th>\n",
       "      <th>ArrTime</th>\n",
       "      <th>CRSArrTime</th>\n",
       "      <th>UniqueCarrier</th>\n",
       "      <th>FlightNum</th>\n",
       "      <th>...</th>\n",
       "      <th>TaxiIn</th>\n",
       "      <th>TaxiOut</th>\n",
       "      <th>Cancelled</th>\n",
       "      <th>CancellationCode</th>\n",
       "      <th>Diverted</th>\n",
       "      <th>CarrierDelay</th>\n",
       "      <th>WeatherDelay</th>\n",
       "      <th>NASDelay</th>\n",
       "      <th>SecurityDelay</th>\n",
       "      <th>LateAircraftDelay</th>\n",
       "    </tr>\n",
       "  </thead>\n",
       "  <tbody>\n",
       "    <tr>\n",
       "      <th>0</th>\n",
       "      <td>2000</td>\n",
       "      <td>1</td>\n",
       "      <td>28</td>\n",
       "      <td>5</td>\n",
       "      <td>1647.0</td>\n",
       "      <td>1647</td>\n",
       "      <td>1906.0</td>\n",
       "      <td>1859</td>\n",
       "      <td>HP</td>\n",
       "      <td>154</td>\n",
       "      <td>...</td>\n",
       "      <td>15</td>\n",
       "      <td>11</td>\n",
       "      <td>0</td>\n",
       "      <td>NaN</td>\n",
       "      <td>0</td>\n",
       "      <td>NaN</td>\n",
       "      <td>NaN</td>\n",
       "      <td>NaN</td>\n",
       "      <td>NaN</td>\n",
       "      <td>NaN</td>\n",
       "    </tr>\n",
       "    <tr>\n",
       "      <th>1</th>\n",
       "      <td>2000</td>\n",
       "      <td>1</td>\n",
       "      <td>29</td>\n",
       "      <td>6</td>\n",
       "      <td>1648.0</td>\n",
       "      <td>1647</td>\n",
       "      <td>1939.0</td>\n",
       "      <td>1859</td>\n",
       "      <td>HP</td>\n",
       "      <td>154</td>\n",
       "      <td>...</td>\n",
       "      <td>5</td>\n",
       "      <td>47</td>\n",
       "      <td>0</td>\n",
       "      <td>NaN</td>\n",
       "      <td>0</td>\n",
       "      <td>NaN</td>\n",
       "      <td>NaN</td>\n",
       "      <td>NaN</td>\n",
       "      <td>NaN</td>\n",
       "      <td>NaN</td>\n",
       "    </tr>\n",
       "    <tr>\n",
       "      <th>2</th>\n",
       "      <td>2000</td>\n",
       "      <td>1</td>\n",
       "      <td>30</td>\n",
       "      <td>7</td>\n",
       "      <td>NaN</td>\n",
       "      <td>1647</td>\n",
       "      <td>NaN</td>\n",
       "      <td>1859</td>\n",
       "      <td>HP</td>\n",
       "      <td>154</td>\n",
       "      <td>...</td>\n",
       "      <td>0</td>\n",
       "      <td>0</td>\n",
       "      <td>1</td>\n",
       "      <td>NaN</td>\n",
       "      <td>0</td>\n",
       "      <td>NaN</td>\n",
       "      <td>NaN</td>\n",
       "      <td>NaN</td>\n",
       "      <td>NaN</td>\n",
       "      <td>NaN</td>\n",
       "    </tr>\n",
       "    <tr>\n",
       "      <th>3</th>\n",
       "      <td>2000</td>\n",
       "      <td>1</td>\n",
       "      <td>31</td>\n",
       "      <td>1</td>\n",
       "      <td>1645.0</td>\n",
       "      <td>1647</td>\n",
       "      <td>1852.0</td>\n",
       "      <td>1859</td>\n",
       "      <td>HP</td>\n",
       "      <td>154</td>\n",
       "      <td>...</td>\n",
       "      <td>7</td>\n",
       "      <td>14</td>\n",
       "      <td>0</td>\n",
       "      <td>NaN</td>\n",
       "      <td>0</td>\n",
       "      <td>NaN</td>\n",
       "      <td>NaN</td>\n",
       "      <td>NaN</td>\n",
       "      <td>NaN</td>\n",
       "      <td>NaN</td>\n",
       "    </tr>\n",
       "    <tr>\n",
       "      <th>4</th>\n",
       "      <td>2000</td>\n",
       "      <td>1</td>\n",
       "      <td>1</td>\n",
       "      <td>6</td>\n",
       "      <td>842.0</td>\n",
       "      <td>846</td>\n",
       "      <td>1057.0</td>\n",
       "      <td>1101</td>\n",
       "      <td>HP</td>\n",
       "      <td>609</td>\n",
       "      <td>...</td>\n",
       "      <td>3</td>\n",
       "      <td>8</td>\n",
       "      <td>0</td>\n",
       "      <td>NaN</td>\n",
       "      <td>0</td>\n",
       "      <td>NaN</td>\n",
       "      <td>NaN</td>\n",
       "      <td>NaN</td>\n",
       "      <td>NaN</td>\n",
       "      <td>NaN</td>\n",
       "    </tr>\n",
       "    <tr>\n",
       "      <th>...</th>\n",
       "      <td>...</td>\n",
       "      <td>...</td>\n",
       "      <td>...</td>\n",
       "      <td>...</td>\n",
       "      <td>...</td>\n",
       "      <td>...</td>\n",
       "      <td>...</td>\n",
       "      <td>...</td>\n",
       "      <td>...</td>\n",
       "      <td>...</td>\n",
       "      <td>...</td>\n",
       "      <td>...</td>\n",
       "      <td>...</td>\n",
       "      <td>...</td>\n",
       "      <td>...</td>\n",
       "      <td>...</td>\n",
       "      <td>...</td>\n",
       "      <td>...</td>\n",
       "      <td>...</td>\n",
       "      <td>...</td>\n",
       "      <td>...</td>\n",
       "    </tr>\n",
       "    <tr>\n",
       "      <th>5683042</th>\n",
       "      <td>2000</td>\n",
       "      <td>12</td>\n",
       "      <td>9</td>\n",
       "      <td>6</td>\n",
       "      <td>615.0</td>\n",
       "      <td>613</td>\n",
       "      <td>941.0</td>\n",
       "      <td>945</td>\n",
       "      <td>AA</td>\n",
       "      <td>705</td>\n",
       "      <td>...</td>\n",
       "      <td>11</td>\n",
       "      <td>18</td>\n",
       "      <td>0</td>\n",
       "      <td>NaN</td>\n",
       "      <td>0</td>\n",
       "      <td>NaN</td>\n",
       "      <td>NaN</td>\n",
       "      <td>NaN</td>\n",
       "      <td>NaN</td>\n",
       "      <td>NaN</td>\n",
       "    </tr>\n",
       "    <tr>\n",
       "      <th>5683043</th>\n",
       "      <td>2000</td>\n",
       "      <td>12</td>\n",
       "      <td>10</td>\n",
       "      <td>7</td>\n",
       "      <td>619.0</td>\n",
       "      <td>613</td>\n",
       "      <td>925.0</td>\n",
       "      <td>945</td>\n",
       "      <td>AA</td>\n",
       "      <td>705</td>\n",
       "      <td>...</td>\n",
       "      <td>8</td>\n",
       "      <td>15</td>\n",
       "      <td>0</td>\n",
       "      <td>NaN</td>\n",
       "      <td>0</td>\n",
       "      <td>NaN</td>\n",
       "      <td>NaN</td>\n",
       "      <td>NaN</td>\n",
       "      <td>NaN</td>\n",
       "      <td>NaN</td>\n",
       "    </tr>\n",
       "    <tr>\n",
       "      <th>5683044</th>\n",
       "      <td>2000</td>\n",
       "      <td>12</td>\n",
       "      <td>11</td>\n",
       "      <td>1</td>\n",
       "      <td>611.0</td>\n",
       "      <td>613</td>\n",
       "      <td>949.0</td>\n",
       "      <td>945</td>\n",
       "      <td>AA</td>\n",
       "      <td>705</td>\n",
       "      <td>...</td>\n",
       "      <td>8</td>\n",
       "      <td>12</td>\n",
       "      <td>0</td>\n",
       "      <td>NaN</td>\n",
       "      <td>0</td>\n",
       "      <td>NaN</td>\n",
       "      <td>NaN</td>\n",
       "      <td>NaN</td>\n",
       "      <td>NaN</td>\n",
       "      <td>NaN</td>\n",
       "    </tr>\n",
       "    <tr>\n",
       "      <th>5683045</th>\n",
       "      <td>2000</td>\n",
       "      <td>12</td>\n",
       "      <td>12</td>\n",
       "      <td>2</td>\n",
       "      <td>613.0</td>\n",
       "      <td>613</td>\n",
       "      <td>1005.0</td>\n",
       "      <td>945</td>\n",
       "      <td>AA</td>\n",
       "      <td>705</td>\n",
       "      <td>...</td>\n",
       "      <td>9</td>\n",
       "      <td>18</td>\n",
       "      <td>0</td>\n",
       "      <td>NaN</td>\n",
       "      <td>0</td>\n",
       "      <td>NaN</td>\n",
       "      <td>NaN</td>\n",
       "      <td>NaN</td>\n",
       "      <td>NaN</td>\n",
       "      <td>NaN</td>\n",
       "    </tr>\n",
       "    <tr>\n",
       "      <th>5683046</th>\n",
       "      <td>2000</td>\n",
       "      <td>12</td>\n",
       "      <td>13</td>\n",
       "      <td>3</td>\n",
       "      <td>614.0</td>\n",
       "      <td>613</td>\n",
       "      <td>948.0</td>\n",
       "      <td>945</td>\n",
       "      <td>AA</td>\n",
       "      <td>705</td>\n",
       "      <td>...</td>\n",
       "      <td>12</td>\n",
       "      <td>23</td>\n",
       "      <td>0</td>\n",
       "      <td>NaN</td>\n",
       "      <td>0</td>\n",
       "      <td>NaN</td>\n",
       "      <td>NaN</td>\n",
       "      <td>NaN</td>\n",
       "      <td>NaN</td>\n",
       "      <td>NaN</td>\n",
       "    </tr>\n",
       "  </tbody>\n",
       "</table>\n",
       "<p>5683047 rows × 29 columns</p>\n",
       "</div>"
      ],
      "text/plain": [
       "         Year  Month  DayofMonth  DayOfWeek  DepTime  CRSDepTime  ArrTime  \\\n",
       "0        2000      1          28          5   1647.0        1647   1906.0   \n",
       "1        2000      1          29          6   1648.0        1647   1939.0   \n",
       "2        2000      1          30          7      NaN        1647      NaN   \n",
       "3        2000      1          31          1   1645.0        1647   1852.0   \n",
       "4        2000      1           1          6    842.0         846   1057.0   \n",
       "...       ...    ...         ...        ...      ...         ...      ...   \n",
       "5683042  2000     12           9          6    615.0         613    941.0   \n",
       "5683043  2000     12          10          7    619.0         613    925.0   \n",
       "5683044  2000     12          11          1    611.0         613    949.0   \n",
       "5683045  2000     12          12          2    613.0         613   1005.0   \n",
       "5683046  2000     12          13          3    614.0         613    948.0   \n",
       "\n",
       "         CRSArrTime UniqueCarrier  FlightNum  ... TaxiIn  TaxiOut  Cancelled  \\\n",
       "0              1859            HP        154  ...     15       11          0   \n",
       "1              1859            HP        154  ...      5       47          0   \n",
       "2              1859            HP        154  ...      0        0          1   \n",
       "3              1859            HP        154  ...      7       14          0   \n",
       "4              1101            HP        609  ...      3        8          0   \n",
       "...             ...           ...        ...  ...    ...      ...        ...   \n",
       "5683042         945            AA        705  ...     11       18          0   \n",
       "5683043         945            AA        705  ...      8       15          0   \n",
       "5683044         945            AA        705  ...      8       12          0   \n",
       "5683045         945            AA        705  ...      9       18          0   \n",
       "5683046         945            AA        705  ...     12       23          0   \n",
       "\n",
       "         CancellationCode  Diverted  CarrierDelay WeatherDelay NASDelay  \\\n",
       "0                     NaN         0           NaN          NaN      NaN   \n",
       "1                     NaN         0           NaN          NaN      NaN   \n",
       "2                     NaN         0           NaN          NaN      NaN   \n",
       "3                     NaN         0           NaN          NaN      NaN   \n",
       "4                     NaN         0           NaN          NaN      NaN   \n",
       "...                   ...       ...           ...          ...      ...   \n",
       "5683042               NaN         0           NaN          NaN      NaN   \n",
       "5683043               NaN         0           NaN          NaN      NaN   \n",
       "5683044               NaN         0           NaN          NaN      NaN   \n",
       "5683045               NaN         0           NaN          NaN      NaN   \n",
       "5683046               NaN         0           NaN          NaN      NaN   \n",
       "\n",
       "         SecurityDelay  LateAircraftDelay  \n",
       "0                  NaN                NaN  \n",
       "1                  NaN                NaN  \n",
       "2                  NaN                NaN  \n",
       "3                  NaN                NaN  \n",
       "4                  NaN                NaN  \n",
       "...                ...                ...  \n",
       "5683042            NaN                NaN  \n",
       "5683043            NaN                NaN  \n",
       "5683044            NaN                NaN  \n",
       "5683045            NaN                NaN  \n",
       "5683046            NaN                NaN  \n",
       "\n",
       "[5683047 rows x 29 columns]"
      ]
     },
     "execution_count": 15,
     "metadata": {},
     "output_type": "execute_result"
    }
   ],
   "source": [
    "df2000 = pd.read_csv('2000.csv')\n",
    "df2001 = pd.read_csv('2001.csv',encoding='latin-1')\n",
    "df2000"
   ]
  },
  {
   "cell_type": "code",
   "execution_count": 45,
   "metadata": {
    "colab": {
     "base_uri": "https://localhost:8080/"
    },
    "id": "Zgnk2iX4hKsB",
    "outputId": "2a272081-bbba-4c4b-9351-c5d83a5c35ac"
   },
   "outputs": [
    {
     "data": {
      "text/plain": [
       "Index(['Year', 'Month', 'DayofMonth', 'DayOfWeek', 'DepTime', 'CRSDepTime',\n",
       "       'ArrTime', 'CRSArrTime', 'UniqueCarrier', 'FlightNum', 'TailNum',\n",
       "       'ActualElapsedTime', 'CRSElapsedTime', 'AirTime', 'ArrDelay',\n",
       "       'DepDelay', 'Origin', 'Dest', 'Distance', 'TaxiIn', 'TaxiOut',\n",
       "       'Cancelled', 'Diverted'],\n",
       "      dtype='object')"
      ]
     },
     "execution_count": 45,
     "metadata": {},
     "output_type": "execute_result"
    }
   ],
   "source": [
    "# This helps us to view the names of all the columns present in the 2000 data which cannot be seen clearly above\n",
    "df2000.columns"
   ]
  },
  {
   "cell_type": "code",
   "execution_count": 16,
   "metadata": {
    "colab": {
     "base_uri": "https://localhost:8080/"
    },
    "id": "F37C9Mly-o3H",
    "outputId": "d9fc999d-a2c7-431b-9ea6-998aad6a604c"
   },
   "outputs": [
    {
     "data": {
      "text/plain": [
       "Year                       0\n",
       "Month                      0\n",
       "DayofMonth                 0\n",
       "DayOfWeek                  0\n",
       "DepTime               187490\n",
       "CRSDepTime                 0\n",
       "ArrTime               201744\n",
       "CRSArrTime                 0\n",
       "UniqueCarrier              0\n",
       "FlightNum                  0\n",
       "TailNum                    0\n",
       "ActualElapsedTime     201744\n",
       "CRSElapsedTime           269\n",
       "AirTime               201744\n",
       "ArrDelay              201744\n",
       "DepDelay              187490\n",
       "Origin                     0\n",
       "Dest                       0\n",
       "Distance                   0\n",
       "TaxiIn                     0\n",
       "TaxiOut                    0\n",
       "Cancelled                  0\n",
       "CancellationCode     5683047\n",
       "Diverted                   0\n",
       "CarrierDelay         5683047\n",
       "WeatherDelay         5683047\n",
       "NASDelay             5683047\n",
       "SecurityDelay        5683047\n",
       "LateAircraftDelay    5683047\n",
       "dtype: int64"
      ]
     },
     "execution_count": 16,
     "metadata": {},
     "output_type": "execute_result"
    }
   ],
   "source": [
    "# This gives us an idea of all the present na values in the 2000 dataset\n",
    "df2000.isna().sum()"
   ]
  },
  {
   "cell_type": "code",
   "execution_count": null,
   "metadata": {
    "colab": {
     "base_uri": "https://localhost:8080/"
    },
    "id": "rfJCGxK-cIus",
    "outputId": "2013a93f-b19b-4403-b825-22bf0f44edd1"
   },
   "outputs": [
    {
     "data": {
      "text/plain": [
       "Year                       0\n",
       "Month                      0\n",
       "DayofMonth                 0\n",
       "DayOfWeek                  0\n",
       "DepTime               231198\n",
       "CRSDepTime                 0\n",
       "ArrTime               244107\n",
       "CRSArrTime                 0\n",
       "UniqueCarrier              0\n",
       "FlightNum                  0\n",
       "TailNum                    0\n",
       "ActualElapsedTime     244107\n",
       "CRSElapsedTime             0\n",
       "AirTime               244107\n",
       "ArrDelay              244107\n",
       "DepDelay              231198\n",
       "Origin                     0\n",
       "Dest                       0\n",
       "Distance                   0\n",
       "TaxiIn                     0\n",
       "TaxiOut                    0\n",
       "Cancelled                  0\n",
       "CancellationCode     5967780\n",
       "Diverted                   0\n",
       "CarrierDelay         5967780\n",
       "WeatherDelay         5967780\n",
       "NASDelay             5967780\n",
       "SecurityDelay        5967780\n",
       "LateAircraftDelay    5967780\n",
       "dtype: int64"
      ]
     },
     "execution_count": 144,
     "metadata": {},
     "output_type": "execute_result"
    }
   ],
   "source": [
    "df2001.isna().sum()"
   ]
  },
  {
   "cell_type": "markdown",
   "metadata": {
    "id": "1WGe6zaleO5J"
   },
   "source": [
    "We can see that in both dataframe, some columns are completely missing and we need to remove all those columns. \n",
    "\n",
    "```\n",
    "# This is formatted as code\n",
    "```\n",
    "\n"
   ]
  },
  {
   "cell_type": "code",
   "execution_count": 17,
   "metadata": {
    "id": "BrK8vkghcIyU"
   },
   "outputs": [],
   "source": [
    "df2000 = df2000.drop(['CancellationCode', 'CarrierDelay','WeatherDelay','NASDelay','SecurityDelay','LateAircraftDelay'], axis = 1)\n",
    "df2001 = df2001.drop(['CancellationCode', 'CarrierDelay','WeatherDelay','NASDelay','SecurityDelay','LateAircraftDelay'], axis = 1)"
   ]
  },
  {
   "cell_type": "markdown",
   "metadata": {
    "id": "plXVHB5VfAmT"
   },
   "source": [
    "Now the rows with nan values will be removed to make data more cleaned. Alternatively we can also replace it with mean. As the number of nan value are very low so the better option is to drop it. \n",
    "\n",
    "\n"
   ]
  },
  {
   "cell_type": "code",
   "execution_count": 18,
   "metadata": {
    "colab": {
     "base_uri": "https://localhost:8080/"
    },
    "id": "IrmMp8K9cI2C",
    "outputId": "67a0e3b2-3729-4945-928a-8789cb10be48"
   },
   "outputs": [
    {
     "name": "stdout",
     "output_type": "stream",
     "text": [
      "The length of 2000 data is != 5481303\n",
      "The length of 2001 data is != 5723673\n"
     ]
    }
   ],
   "source": [
    "Dfdf2000Clean = df2000.dropna()\n",
    "Df2001Clean = df2001.dropna()\n",
    "print(\"The length of 2000 data is !=\",len(Dfdf2000Clean))\n",
    "print(\"The length of 2001 data is !=\", len(Df2001Clean))"
   ]
  },
  {
   "cell_type": "code",
   "execution_count": 19,
   "metadata": {
    "id": "sPfmogvOcI45"
   },
   "outputs": [],
   "source": [
    "DfCombine = pd.concat([Dfdf2000Clean, Df2001Clean])"
   ]
  },
  {
   "cell_type": "code",
   "execution_count": 20,
   "metadata": {
    "id": "Glw4SaeXh2Vj"
   },
   "outputs": [
    {
     "data": {
      "text/html": [
       "<div>\n",
       "<style scoped>\n",
       "    .dataframe tbody tr th:only-of-type {\n",
       "        vertical-align: middle;\n",
       "    }\n",
       "\n",
       "    .dataframe tbody tr th {\n",
       "        vertical-align: top;\n",
       "    }\n",
       "\n",
       "    .dataframe thead th {\n",
       "        text-align: right;\n",
       "    }\n",
       "</style>\n",
       "<table border=\"1\" class=\"dataframe\">\n",
       "  <thead>\n",
       "    <tr style=\"text-align: right;\">\n",
       "      <th></th>\n",
       "      <th>Year</th>\n",
       "      <th>Month</th>\n",
       "      <th>DayofMonth</th>\n",
       "      <th>DayOfWeek</th>\n",
       "      <th>DepTime</th>\n",
       "      <th>CRSDepTime</th>\n",
       "      <th>ArrTime</th>\n",
       "      <th>CRSArrTime</th>\n",
       "      <th>UniqueCarrier</th>\n",
       "      <th>FlightNum</th>\n",
       "      <th>...</th>\n",
       "      <th>AirTime</th>\n",
       "      <th>ArrDelay</th>\n",
       "      <th>DepDelay</th>\n",
       "      <th>Origin</th>\n",
       "      <th>Dest</th>\n",
       "      <th>Distance</th>\n",
       "      <th>TaxiIn</th>\n",
       "      <th>TaxiOut</th>\n",
       "      <th>Cancelled</th>\n",
       "      <th>Diverted</th>\n",
       "    </tr>\n",
       "  </thead>\n",
       "  <tbody>\n",
       "    <tr>\n",
       "      <th>0</th>\n",
       "      <td>2000</td>\n",
       "      <td>1</td>\n",
       "      <td>28</td>\n",
       "      <td>5</td>\n",
       "      <td>1647.0</td>\n",
       "      <td>1647</td>\n",
       "      <td>1906.0</td>\n",
       "      <td>1859</td>\n",
       "      <td>HP</td>\n",
       "      <td>154</td>\n",
       "      <td>...</td>\n",
       "      <td>233.0</td>\n",
       "      <td>7.0</td>\n",
       "      <td>0.0</td>\n",
       "      <td>ATL</td>\n",
       "      <td>PHX</td>\n",
       "      <td>1587</td>\n",
       "      <td>15</td>\n",
       "      <td>11</td>\n",
       "      <td>0</td>\n",
       "      <td>0</td>\n",
       "    </tr>\n",
       "    <tr>\n",
       "      <th>1</th>\n",
       "      <td>2000</td>\n",
       "      <td>1</td>\n",
       "      <td>29</td>\n",
       "      <td>6</td>\n",
       "      <td>1648.0</td>\n",
       "      <td>1647</td>\n",
       "      <td>1939.0</td>\n",
       "      <td>1859</td>\n",
       "      <td>HP</td>\n",
       "      <td>154</td>\n",
       "      <td>...</td>\n",
       "      <td>239.0</td>\n",
       "      <td>40.0</td>\n",
       "      <td>1.0</td>\n",
       "      <td>ATL</td>\n",
       "      <td>PHX</td>\n",
       "      <td>1587</td>\n",
       "      <td>5</td>\n",
       "      <td>47</td>\n",
       "      <td>0</td>\n",
       "      <td>0</td>\n",
       "    </tr>\n",
       "    <tr>\n",
       "      <th>3</th>\n",
       "      <td>2000</td>\n",
       "      <td>1</td>\n",
       "      <td>31</td>\n",
       "      <td>1</td>\n",
       "      <td>1645.0</td>\n",
       "      <td>1647</td>\n",
       "      <td>1852.0</td>\n",
       "      <td>1859</td>\n",
       "      <td>HP</td>\n",
       "      <td>154</td>\n",
       "      <td>...</td>\n",
       "      <td>226.0</td>\n",
       "      <td>-7.0</td>\n",
       "      <td>-2.0</td>\n",
       "      <td>ATL</td>\n",
       "      <td>PHX</td>\n",
       "      <td>1587</td>\n",
       "      <td>7</td>\n",
       "      <td>14</td>\n",
       "      <td>0</td>\n",
       "      <td>0</td>\n",
       "    </tr>\n",
       "    <tr>\n",
       "      <th>4</th>\n",
       "      <td>2000</td>\n",
       "      <td>1</td>\n",
       "      <td>1</td>\n",
       "      <td>6</td>\n",
       "      <td>842.0</td>\n",
       "      <td>846</td>\n",
       "      <td>1057.0</td>\n",
       "      <td>1101</td>\n",
       "      <td>HP</td>\n",
       "      <td>609</td>\n",
       "      <td>...</td>\n",
       "      <td>244.0</td>\n",
       "      <td>-4.0</td>\n",
       "      <td>-4.0</td>\n",
       "      <td>ATL</td>\n",
       "      <td>PHX</td>\n",
       "      <td>1587</td>\n",
       "      <td>3</td>\n",
       "      <td>8</td>\n",
       "      <td>0</td>\n",
       "      <td>0</td>\n",
       "    </tr>\n",
       "    <tr>\n",
       "      <th>5</th>\n",
       "      <td>2000</td>\n",
       "      <td>1</td>\n",
       "      <td>2</td>\n",
       "      <td>7</td>\n",
       "      <td>849.0</td>\n",
       "      <td>846</td>\n",
       "      <td>1148.0</td>\n",
       "      <td>1101</td>\n",
       "      <td>HP</td>\n",
       "      <td>609</td>\n",
       "      <td>...</td>\n",
       "      <td>267.0</td>\n",
       "      <td>47.0</td>\n",
       "      <td>3.0</td>\n",
       "      <td>ATL</td>\n",
       "      <td>PHX</td>\n",
       "      <td>1587</td>\n",
       "      <td>8</td>\n",
       "      <td>24</td>\n",
       "      <td>0</td>\n",
       "      <td>0</td>\n",
       "    </tr>\n",
       "    <tr>\n",
       "      <th>...</th>\n",
       "      <td>...</td>\n",
       "      <td>...</td>\n",
       "      <td>...</td>\n",
       "      <td>...</td>\n",
       "      <td>...</td>\n",
       "      <td>...</td>\n",
       "      <td>...</td>\n",
       "      <td>...</td>\n",
       "      <td>...</td>\n",
       "      <td>...</td>\n",
       "      <td>...</td>\n",
       "      <td>...</td>\n",
       "      <td>...</td>\n",
       "      <td>...</td>\n",
       "      <td>...</td>\n",
       "      <td>...</td>\n",
       "      <td>...</td>\n",
       "      <td>...</td>\n",
       "      <td>...</td>\n",
       "      <td>...</td>\n",
       "      <td>...</td>\n",
       "    </tr>\n",
       "    <tr>\n",
       "      <th>5967775</th>\n",
       "      <td>2001</td>\n",
       "      <td>12</td>\n",
       "      <td>14</td>\n",
       "      <td>5</td>\n",
       "      <td>704.0</td>\n",
       "      <td>700</td>\n",
       "      <td>1159.0</td>\n",
       "      <td>1155</td>\n",
       "      <td>DL</td>\n",
       "      <td>678</td>\n",
       "      <td>...</td>\n",
       "      <td>148.0</td>\n",
       "      <td>4.0</td>\n",
       "      <td>4.0</td>\n",
       "      <td>ONT</td>\n",
       "      <td>DFW</td>\n",
       "      <td>1189</td>\n",
       "      <td>14</td>\n",
       "      <td>13</td>\n",
       "      <td>0</td>\n",
       "      <td>0</td>\n",
       "    </tr>\n",
       "    <tr>\n",
       "      <th>5967776</th>\n",
       "      <td>2001</td>\n",
       "      <td>12</td>\n",
       "      <td>15</td>\n",
       "      <td>6</td>\n",
       "      <td>708.0</td>\n",
       "      <td>700</td>\n",
       "      <td>1158.0</td>\n",
       "      <td>1155</td>\n",
       "      <td>DL</td>\n",
       "      <td>678</td>\n",
       "      <td>...</td>\n",
       "      <td>143.0</td>\n",
       "      <td>3.0</td>\n",
       "      <td>8.0</td>\n",
       "      <td>ONT</td>\n",
       "      <td>DFW</td>\n",
       "      <td>1189</td>\n",
       "      <td>9</td>\n",
       "      <td>18</td>\n",
       "      <td>0</td>\n",
       "      <td>0</td>\n",
       "    </tr>\n",
       "    <tr>\n",
       "      <th>5967777</th>\n",
       "      <td>2001</td>\n",
       "      <td>12</td>\n",
       "      <td>16</td>\n",
       "      <td>7</td>\n",
       "      <td>656.0</td>\n",
       "      <td>700</td>\n",
       "      <td>1147.0</td>\n",
       "      <td>1155</td>\n",
       "      <td>DL</td>\n",
       "      <td>678</td>\n",
       "      <td>...</td>\n",
       "      <td>153.0</td>\n",
       "      <td>-8.0</td>\n",
       "      <td>-4.0</td>\n",
       "      <td>ONT</td>\n",
       "      <td>DFW</td>\n",
       "      <td>1189</td>\n",
       "      <td>7</td>\n",
       "      <td>11</td>\n",
       "      <td>0</td>\n",
       "      <td>0</td>\n",
       "    </tr>\n",
       "    <tr>\n",
       "      <th>5967778</th>\n",
       "      <td>2001</td>\n",
       "      <td>12</td>\n",
       "      <td>17</td>\n",
       "      <td>1</td>\n",
       "      <td>656.0</td>\n",
       "      <td>700</td>\n",
       "      <td>1151.0</td>\n",
       "      <td>1155</td>\n",
       "      <td>DL</td>\n",
       "      <td>678</td>\n",
       "      <td>...</td>\n",
       "      <td>151.0</td>\n",
       "      <td>-4.0</td>\n",
       "      <td>-4.0</td>\n",
       "      <td>ONT</td>\n",
       "      <td>DFW</td>\n",
       "      <td>1189</td>\n",
       "      <td>13</td>\n",
       "      <td>11</td>\n",
       "      <td>0</td>\n",
       "      <td>0</td>\n",
       "    </tr>\n",
       "    <tr>\n",
       "      <th>5967779</th>\n",
       "      <td>2001</td>\n",
       "      <td>12</td>\n",
       "      <td>18</td>\n",
       "      <td>2</td>\n",
       "      <td>709.0</td>\n",
       "      <td>700</td>\n",
       "      <td>1158.0</td>\n",
       "      <td>1155</td>\n",
       "      <td>DL</td>\n",
       "      <td>678</td>\n",
       "      <td>...</td>\n",
       "      <td>143.0</td>\n",
       "      <td>3.0</td>\n",
       "      <td>9.0</td>\n",
       "      <td>ONT</td>\n",
       "      <td>DFW</td>\n",
       "      <td>1189</td>\n",
       "      <td>10</td>\n",
       "      <td>16</td>\n",
       "      <td>0</td>\n",
       "      <td>0</td>\n",
       "    </tr>\n",
       "  </tbody>\n",
       "</table>\n",
       "<p>11204976 rows × 23 columns</p>\n",
       "</div>"
      ],
      "text/plain": [
       "         Year  Month  DayofMonth  DayOfWeek  DepTime  CRSDepTime  ArrTime  \\\n",
       "0        2000      1          28          5   1647.0        1647   1906.0   \n",
       "1        2000      1          29          6   1648.0        1647   1939.0   \n",
       "3        2000      1          31          1   1645.0        1647   1852.0   \n",
       "4        2000      1           1          6    842.0         846   1057.0   \n",
       "5        2000      1           2          7    849.0         846   1148.0   \n",
       "...       ...    ...         ...        ...      ...         ...      ...   \n",
       "5967775  2001     12          14          5    704.0         700   1159.0   \n",
       "5967776  2001     12          15          6    708.0         700   1158.0   \n",
       "5967777  2001     12          16          7    656.0         700   1147.0   \n",
       "5967778  2001     12          17          1    656.0         700   1151.0   \n",
       "5967779  2001     12          18          2    709.0         700   1158.0   \n",
       "\n",
       "         CRSArrTime UniqueCarrier  FlightNum  ... AirTime  ArrDelay  DepDelay  \\\n",
       "0              1859            HP        154  ...   233.0       7.0       0.0   \n",
       "1              1859            HP        154  ...   239.0      40.0       1.0   \n",
       "3              1859            HP        154  ...   226.0      -7.0      -2.0   \n",
       "4              1101            HP        609  ...   244.0      -4.0      -4.0   \n",
       "5              1101            HP        609  ...   267.0      47.0       3.0   \n",
       "...             ...           ...        ...  ...     ...       ...       ...   \n",
       "5967775        1155            DL        678  ...   148.0       4.0       4.0   \n",
       "5967776        1155            DL        678  ...   143.0       3.0       8.0   \n",
       "5967777        1155            DL        678  ...   153.0      -8.0      -4.0   \n",
       "5967778        1155            DL        678  ...   151.0      -4.0      -4.0   \n",
       "5967779        1155            DL        678  ...   143.0       3.0       9.0   \n",
       "\n",
       "         Origin  Dest  Distance TaxiIn TaxiOut  Cancelled  Diverted  \n",
       "0           ATL   PHX      1587     15      11          0         0  \n",
       "1           ATL   PHX      1587      5      47          0         0  \n",
       "3           ATL   PHX      1587      7      14          0         0  \n",
       "4           ATL   PHX      1587      3       8          0         0  \n",
       "5           ATL   PHX      1587      8      24          0         0  \n",
       "...         ...   ...       ...    ...     ...        ...       ...  \n",
       "5967775     ONT   DFW      1189     14      13          0         0  \n",
       "5967776     ONT   DFW      1189      9      18          0         0  \n",
       "5967777     ONT   DFW      1189      7      11          0         0  \n",
       "5967778     ONT   DFW      1189     13      11          0         0  \n",
       "5967779     ONT   DFW      1189     10      16          0         0  \n",
       "\n",
       "[11204976 rows x 23 columns]"
      ]
     },
     "execution_count": 20,
     "metadata": {},
     "output_type": "execute_result"
    }
   ],
   "source": [
    "DfCombine"
   ]
  },
  {
   "cell_type": "markdown",
   "metadata": {
    "id": "uhUFkpPgcJNH"
   },
   "source": [
    "## 1 Best time of day, month, year to fly to avoid or minimize delays \n"
   ]
  },
  {
   "cell_type": "code",
   "execution_count": 12,
   "metadata": {
    "id": "N011uD13lWaV"
   },
   "outputs": [],
   "source": [
    "# Filter the dataframe where the delay is less than 1 minute is considered on time.\n",
    "dataArr = DfCombine[DfCombine['ArrDelay']<1]\n",
    "dataDep = DfCombine[DfCombine['DepDelay']<1]"
   ]
  },
  {
   "cell_type": "markdown",
   "metadata": {
    "id": "SPxHg9J8kWFn"
   },
   "source": [
    "#### Best Time of the day"
   ]
  },
  {
   "cell_type": "code",
   "execution_count": 13,
   "metadata": {
    "id": "TGjHFIyFkYNY"
   },
   "outputs": [],
   "source": [
    "# Define the function\n",
    "def round_to_nearest_hundred_with_threshold(value, threshold):\n",
    "    # Step 2\n",
    "    rounded_value = round(value / 100)\n",
    "\n",
    "    # Step 4\n",
    "    rounded_value *= 100\n",
    "\n",
    "    # Step 5\n",
    "    if abs(value - rounded_value) <= threshold:\n",
    "        new_value = rounded_value\n",
    "    else:\n",
    "        new_value = rounded_value + 100\n",
    "\n",
    "    return new_value\n"
   ]
  },
  {
   "cell_type": "code",
   "execution_count": 14,
   "metadata": {
    "id": "iH2A1OtmkYQ9"
   },
   "outputs": [],
   "source": [
    "dataArr_copy = dataArr.copy()\n",
    "\n",
    "dataArr_copy.loc[:, 'ArrTime'] = dataArr_copy['ArrTime'].apply(lambda x: round_to_nearest_hundred_with_threshold(x, 30))"
   ]
  },
  {
   "cell_type": "code",
   "execution_count": null,
   "metadata": {
    "colab": {
     "base_uri": "https://localhost:8080/",
     "height": 419
    },
    "id": "7UZtC8Ltnz4y",
    "outputId": "3b97ccf7-9ff0-4ad1-cac2-fce2cde08ddd"
   },
   "outputs": [
    {
     "data": {
      "image/png": "[encoded data removed]",
      "text/plain": [
       "<Figure size 720x432 with 1 Axes>"
      ]
     },
     "metadata": {
      "needs_background": "light"
     },
     "output_type": "display_data"
    }
   ],
   "source": [
    "plt.figure(figsize = (10,6))\n",
    "dataArr_copy['ArrTime'].value_counts().plot(kind = 'bar', color = 'r')\n",
    "plt.title(\"Total On-time flight round the clock\")\n",
    "plt.xlabel(\"Time\")\n",
    "plt.ylabel(\"Total Flight\")\n",
    "plt.show()"
   ]
  },
  {
   "cell_type": "markdown",
   "metadata": {
    "id": "RrDLvco2p3EF"
   },
   "source": [
    "This figure shows that morning and noon time is better to minimize delay"
   ]
  },
  {
   "cell_type": "code",
   "execution_count": null,
   "metadata": {
    "id": "6UwTBzCdcKAE"
   },
   "outputs": [],
   "source": []
  },
  {
   "cell_type": "markdown",
   "metadata": {
    "id": "ZnF5Ye2Vg0g1"
   },
   "source": [
    "### Best time of year"
   ]
  },
  {
   "cell_type": "code",
   "execution_count": null,
   "metadata": {
    "colab": {
     "base_uri": "https://localhost:8080/",
     "height": 404
    },
    "id": "3xCV--cVcKqv",
    "outputId": "53d13885-a6b5-43a2-8145-7d5282ef2b4f"
   },
   "outputs": [
    {
     "data": {
      "image/png": "[encoded data removed]",
      "text/plain": [
       "<Figure size 864x432 with 1 Axes>"
      ]
     },
     "metadata": {
      "needs_background": "light"
     },
     "output_type": "display_data"
    }
   ],
   "source": [
    "plt.figure(figsize= (12,6))\n",
    "bins = np.arange(14) - 0.5\n",
    "plt.hist(dataArr['Month'], bins, rwidth = 0.7, color = 'r')\n",
    "plt.xticks(range(13))\n",
    "plt.title(\"Total On Time monthly Flight (Departed)\")\n",
    "plt.xlabel(\"Month Number\")\n",
    "plt.ylabel(\"Total Number of flights\")\n",
    "plt.xlim([0, 13])\n",
    "plt.show()"
   ]
  },
  {
   "cell_type": "markdown",
   "metadata": {
    "id": "SwoavrD3gBVF"
   },
   "source": [
    "The best month of the year is march, april and May where the flight is less liekly to be delayed as compare to other months of the year."
   ]
  },
  {
   "cell_type": "markdown",
   "metadata": {
    "id": "GeBbdFA4g5Ak"
   },
   "source": [
    "### Best time of the week"
   ]
  },
  {
   "cell_type": "code",
   "execution_count": null,
   "metadata": {
    "colab": {
     "base_uri": "https://localhost:8080/",
     "height": 350
    },
    "id": "IvwVgylkcKur",
    "outputId": "b5960aed-b1aa-4880-aafe-1dabd9dce1da"
   },
   "outputs": [
    {
     "data": {
      "image/png": "[encoded data removed]",
      "text/plain": [
       "<Figure size 720x360 with 1 Axes>"
      ]
     },
     "metadata": {
      "needs_background": "light"
     },
     "output_type": "display_data"
    }
   ],
   "source": [
    "plt.figure(figsize= (10,5))\n",
    "bins = np.arange(9) - 0.5\n",
    "plt.hist(dataArr['DayOfWeek'], bins, rwidth = 0.7, color = 'r')\n",
    "plt.xticks(range(8))\n",
    "plt.title(\"Number of Flight Arrived on time in each Week\")\n",
    "plt.xlabel(\"Day of Week\")\n",
    "plt.ylabel(\"Number of flights\")\n",
    "plt.xlim([0, 8])\n",
    "plt.show()"
   ]
  },
  {
   "cell_type": "markdown",
   "metadata": {
    "id": "S58q1rznf3OT"
   },
   "source": [
    "Above figure shows that the best day of the week is day 1 (Sunday) or 2 (Monday) where mostly flights arrived on time. "
   ]
  },
  {
   "cell_type": "markdown",
   "metadata": {
    "id": "ZNPSn3WFg70a"
   },
   "source": [
    "### Best time of the month"
   ]
  },
  {
   "cell_type": "code",
   "execution_count": null,
   "metadata": {
    "colab": {
     "base_uri": "https://localhost:8080/",
     "height": 458
    },
    "id": "ArKXC3_gj_Gw",
    "outputId": "77d86bd5-bee5-4273-8407-00c94aa23f16"
   },
   "outputs": [
    {
     "data": {
      "image/png": "[encoded data removed]",
      "text/plain": [
       "<Figure size 1080x504 with 1 Axes>"
      ]
     },
     "metadata": {
      "needs_background": "light"
     },
     "output_type": "display_data"
    }
   ],
   "source": [
    "plt.figure(figsize= (15,7))\n",
    "bins = np.arange(33) - 0.5\n",
    "plt.hist(dataArr['DayofMonth'], bins, rwidth = 0.6, color = 'r', edgecolor = 'black')\n",
    "plt.xticks(range(32))\n",
    "plt.title(\"Total Flight arrived on time on each monthly day\")\n",
    "plt.xlabel(\"Day of Month\")\n",
    "plt.ylabel(\"Total Fligths\")\n",
    "plt.xlim([0, 32])\n",
    "plt.minorticks_on()\n",
    "plt.show()"
   ]
  },
  {
   "cell_type": "markdown",
   "metadata": {
    "id": "lk2tfCNseWL9"
   },
   "source": [
    "Above figure shows that the best day of the month is start and the end of the month. As we can see that the number of flight arrived on time in the middle of the month is less as compare to the start and end of the month."
   ]
  },
  {
   "cell_type": "markdown",
   "metadata": {
    "id": "CRDSEEcHcLH8"
   },
   "source": [
    "## 2. Do older planes suffer more delays?"
   ]
  },
  {
   "cell_type": "code",
   "execution_count": 7,
   "metadata": {},
   "outputs": [
    {
     "data": {
      "text/html": [
       "<div>\n",
       "<style scoped>\n",
       "    .dataframe tbody tr th:only-of-type {\n",
       "        vertical-align: middle;\n",
       "    }\n",
       "\n",
       "    .dataframe tbody tr th {\n",
       "        vertical-align: top;\n",
       "    }\n",
       "\n",
       "    .dataframe thead th {\n",
       "        text-align: right;\n",
       "    }\n",
       "</style>\n",
       "<table border=\"1\" class=\"dataframe\">\n",
       "  <thead>\n",
       "    <tr style=\"text-align: right;\">\n",
       "      <th></th>\n",
       "      <th>tailnum</th>\n",
       "      <th>type</th>\n",
       "      <th>manufacturer</th>\n",
       "      <th>issue_date</th>\n",
       "      <th>model</th>\n",
       "      <th>status</th>\n",
       "      <th>aircraft_type</th>\n",
       "      <th>engine_type</th>\n",
       "      <th>year</th>\n",
       "    </tr>\n",
       "  </thead>\n",
       "  <tbody>\n",
       "    <tr>\n",
       "      <th>0</th>\n",
       "      <td>N050AA</td>\n",
       "      <td>NaN</td>\n",
       "      <td>NaN</td>\n",
       "      <td>NaN</td>\n",
       "      <td>NaN</td>\n",
       "      <td>NaN</td>\n",
       "      <td>NaN</td>\n",
       "      <td>NaN</td>\n",
       "      <td>NaN</td>\n",
       "    </tr>\n",
       "    <tr>\n",
       "      <th>1</th>\n",
       "      <td>N051AA</td>\n",
       "      <td>NaN</td>\n",
       "      <td>NaN</td>\n",
       "      <td>NaN</td>\n",
       "      <td>NaN</td>\n",
       "      <td>NaN</td>\n",
       "      <td>NaN</td>\n",
       "      <td>NaN</td>\n",
       "      <td>NaN</td>\n",
       "    </tr>\n",
       "    <tr>\n",
       "      <th>2</th>\n",
       "      <td>N052AA</td>\n",
       "      <td>NaN</td>\n",
       "      <td>NaN</td>\n",
       "      <td>NaN</td>\n",
       "      <td>NaN</td>\n",
       "      <td>NaN</td>\n",
       "      <td>NaN</td>\n",
       "      <td>NaN</td>\n",
       "      <td>NaN</td>\n",
       "    </tr>\n",
       "    <tr>\n",
       "      <th>3</th>\n",
       "      <td>N054AA</td>\n",
       "      <td>NaN</td>\n",
       "      <td>NaN</td>\n",
       "      <td>NaN</td>\n",
       "      <td>NaN</td>\n",
       "      <td>NaN</td>\n",
       "      <td>NaN</td>\n",
       "      <td>NaN</td>\n",
       "      <td>NaN</td>\n",
       "    </tr>\n",
       "    <tr>\n",
       "      <th>4</th>\n",
       "      <td>N055AA</td>\n",
       "      <td>NaN</td>\n",
       "      <td>NaN</td>\n",
       "      <td>NaN</td>\n",
       "      <td>NaN</td>\n",
       "      <td>NaN</td>\n",
       "      <td>NaN</td>\n",
       "      <td>NaN</td>\n",
       "      <td>NaN</td>\n",
       "    </tr>\n",
       "  </tbody>\n",
       "</table>\n",
       "</div>"
      ],
      "text/plain": [
       "  tailnum type manufacturer issue_date model status aircraft_type engine_type  \\\n",
       "0  N050AA  NaN          NaN        NaN   NaN    NaN           NaN         NaN   \n",
       "1  N051AA  NaN          NaN        NaN   NaN    NaN           NaN         NaN   \n",
       "2  N052AA  NaN          NaN        NaN   NaN    NaN           NaN         NaN   \n",
       "3  N054AA  NaN          NaN        NaN   NaN    NaN           NaN         NaN   \n",
       "4  N055AA  NaN          NaN        NaN   NaN    NaN           NaN         NaN   \n",
       "\n",
       "  year  \n",
       "0  NaN  \n",
       "1  NaN  \n",
       "2  NaN  \n",
       "3  NaN  \n",
       "4  NaN  "
      ]
     },
     "execution_count": 7,
     "metadata": {},
     "output_type": "execute_result"
    }
   ],
   "source": [
    "Plane_data = pd.read_csv('plane-data.csv')\n",
    "Plane_data.head(5)"
   ]
  },
  {
   "cell_type": "code",
   "execution_count": 6,
   "metadata": {},
   "outputs": [
    {
     "data": {
      "text/plain": [
       "Index(['tailnum', 'type', 'manufacturer', 'issue_date', 'model', 'status',\n",
       "       'aircraft_type', 'engine_type', 'year'],\n",
       "      dtype='object')"
      ]
     },
     "execution_count": 6,
     "metadata": {},
     "output_type": "execute_result"
    }
   ],
   "source": [
    "Plane_data.columns"
   ]
  },
  {
   "cell_type": "code",
   "execution_count": 23,
   "metadata": {},
   "outputs": [],
   "source": [
    "# Remove rows with missing values from plane_data\n",
    "Plane_data.dropna(inplace=True)\n",
    "\n",
    "# Join df_combine with plane_data on tailnum\n",
    "selected_cols = [\"tailnum\", \"type\", \"manufacturer\", \"issue_date\", \"model\", \"status\", \"aircraft_type\", \"engine_type\", \"year\"]\n",
    "plane_data_select = Plane_data[selected_cols]\n",
    "\n",
    "# Rename tailnum in plane_data to match TailNum in flights_clean\n",
    "plane_data_select.rename(columns={\"tailnum\": \"TailNum\"}, inplace=True)"
   ]
  },
  {
   "cell_type": "code",
   "execution_count": 41,
   "metadata": {},
   "outputs": [
    {
     "data": {
      "text/html": [
       "<div>\n",
       "<style scoped>\n",
       "    .dataframe tbody tr th:only-of-type {\n",
       "        vertical-align: middle;\n",
       "    }\n",
       "\n",
       "    .dataframe tbody tr th {\n",
       "        vertical-align: top;\n",
       "    }\n",
       "\n",
       "    .dataframe thead th {\n",
       "        text-align: right;\n",
       "    }\n",
       "</style>\n",
       "<table border=\"1\" class=\"dataframe\">\n",
       "  <thead>\n",
       "    <tr style=\"text-align: right;\">\n",
       "      <th></th>\n",
       "      <th>Year</th>\n",
       "      <th>Month</th>\n",
       "      <th>DayofMonth</th>\n",
       "      <th>DayOfWeek</th>\n",
       "      <th>DepTime</th>\n",
       "      <th>CRSDepTime</th>\n",
       "      <th>ArrTime</th>\n",
       "      <th>CRSArrTime</th>\n",
       "      <th>UniqueCarrier</th>\n",
       "      <th>FlightNum</th>\n",
       "      <th>...</th>\n",
       "      <th>Cancelled</th>\n",
       "      <th>Diverted</th>\n",
       "      <th>type</th>\n",
       "      <th>manufacturer</th>\n",
       "      <th>issue_date</th>\n",
       "      <th>model</th>\n",
       "      <th>status</th>\n",
       "      <th>aircraft_type</th>\n",
       "      <th>engine_type</th>\n",
       "      <th>year</th>\n",
       "    </tr>\n",
       "  </thead>\n",
       "  <tbody>\n",
       "    <tr>\n",
       "      <th>0</th>\n",
       "      <td>2000</td>\n",
       "      <td>1</td>\n",
       "      <td>28</td>\n",
       "      <td>5</td>\n",
       "      <td>1647.0</td>\n",
       "      <td>1647</td>\n",
       "      <td>1906.0</td>\n",
       "      <td>1859</td>\n",
       "      <td>HP</td>\n",
       "      <td>154</td>\n",
       "      <td>...</td>\n",
       "      <td>0</td>\n",
       "      <td>0</td>\n",
       "      <td>Corporation</td>\n",
       "      <td>AIRBUS INDUSTRIE</td>\n",
       "      <td>10/28/2004</td>\n",
       "      <td>A319-132</td>\n",
       "      <td>Valid</td>\n",
       "      <td>Fixed Wing Multi-Engine</td>\n",
       "      <td>Turbo-Jet</td>\n",
       "      <td>1999</td>\n",
       "    </tr>\n",
       "    <tr>\n",
       "      <th>1</th>\n",
       "      <td>2000</td>\n",
       "      <td>1</td>\n",
       "      <td>29</td>\n",
       "      <td>6</td>\n",
       "      <td>1648.0</td>\n",
       "      <td>1647</td>\n",
       "      <td>1939.0</td>\n",
       "      <td>1859</td>\n",
       "      <td>HP</td>\n",
       "      <td>154</td>\n",
       "      <td>...</td>\n",
       "      <td>0</td>\n",
       "      <td>0</td>\n",
       "      <td>Corporation</td>\n",
       "      <td>AIRBUS INDUSTRIE</td>\n",
       "      <td>06/04/2004</td>\n",
       "      <td>A320-232</td>\n",
       "      <td>Valid</td>\n",
       "      <td>Fixed Wing Multi-Engine</td>\n",
       "      <td>Turbo-Jet</td>\n",
       "      <td>1999</td>\n",
       "    </tr>\n",
       "    <tr>\n",
       "      <th>2</th>\n",
       "      <td>2000</td>\n",
       "      <td>1</td>\n",
       "      <td>31</td>\n",
       "      <td>1</td>\n",
       "      <td>1645.0</td>\n",
       "      <td>1647</td>\n",
       "      <td>1852.0</td>\n",
       "      <td>1859</td>\n",
       "      <td>HP</td>\n",
       "      <td>154</td>\n",
       "      <td>...</td>\n",
       "      <td>0</td>\n",
       "      <td>0</td>\n",
       "      <td>Corporation</td>\n",
       "      <td>AIRBUS INDUSTRIE</td>\n",
       "      <td>10/21/2004</td>\n",
       "      <td>A319-132</td>\n",
       "      <td>Valid</td>\n",
       "      <td>Fixed Wing Multi-Engine</td>\n",
       "      <td>Turbo-Jet</td>\n",
       "      <td>1999</td>\n",
       "    </tr>\n",
       "    <tr>\n",
       "      <th>3</th>\n",
       "      <td>2000</td>\n",
       "      <td>1</td>\n",
       "      <td>1</td>\n",
       "      <td>6</td>\n",
       "      <td>842.0</td>\n",
       "      <td>846</td>\n",
       "      <td>1057.0</td>\n",
       "      <td>1101</td>\n",
       "      <td>HP</td>\n",
       "      <td>609</td>\n",
       "      <td>...</td>\n",
       "      <td>0</td>\n",
       "      <td>0</td>\n",
       "      <td>Corporation</td>\n",
       "      <td>BOEING</td>\n",
       "      <td>08/25/1999</td>\n",
       "      <td>737-3G7</td>\n",
       "      <td>Valid</td>\n",
       "      <td>Fixed Wing Multi-Engine</td>\n",
       "      <td>Turbo-Jet</td>\n",
       "      <td>1987</td>\n",
       "    </tr>\n",
       "    <tr>\n",
       "      <th>4</th>\n",
       "      <td>2000</td>\n",
       "      <td>1</td>\n",
       "      <td>2</td>\n",
       "      <td>7</td>\n",
       "      <td>849.0</td>\n",
       "      <td>846</td>\n",
       "      <td>1148.0</td>\n",
       "      <td>1101</td>\n",
       "      <td>HP</td>\n",
       "      <td>609</td>\n",
       "      <td>...</td>\n",
       "      <td>0</td>\n",
       "      <td>0</td>\n",
       "      <td>Corporation</td>\n",
       "      <td>AIRBUS INDUSTRIE</td>\n",
       "      <td>06/30/2004</td>\n",
       "      <td>A320-232</td>\n",
       "      <td>Valid</td>\n",
       "      <td>Fixed Wing Multi-Engine</td>\n",
       "      <td>Turbo-Jet</td>\n",
       "      <td>1999</td>\n",
       "    </tr>\n",
       "    <tr>\n",
       "      <th>...</th>\n",
       "      <td>...</td>\n",
       "      <td>...</td>\n",
       "      <td>...</td>\n",
       "      <td>...</td>\n",
       "      <td>...</td>\n",
       "      <td>...</td>\n",
       "      <td>...</td>\n",
       "      <td>...</td>\n",
       "      <td>...</td>\n",
       "      <td>...</td>\n",
       "      <td>...</td>\n",
       "      <td>...</td>\n",
       "      <td>...</td>\n",
       "      <td>...</td>\n",
       "      <td>...</td>\n",
       "      <td>...</td>\n",
       "      <td>...</td>\n",
       "      <td>...</td>\n",
       "      <td>...</td>\n",
       "      <td>...</td>\n",
       "      <td>...</td>\n",
       "    </tr>\n",
       "    <tr>\n",
       "      <th>11204971</th>\n",
       "      <td>2001</td>\n",
       "      <td>12</td>\n",
       "      <td>14</td>\n",
       "      <td>5</td>\n",
       "      <td>704.0</td>\n",
       "      <td>700</td>\n",
       "      <td>1159.0</td>\n",
       "      <td>1155</td>\n",
       "      <td>DL</td>\n",
       "      <td>678</td>\n",
       "      <td>...</td>\n",
       "      <td>0</td>\n",
       "      <td>0</td>\n",
       "      <td>NaN</td>\n",
       "      <td>NaN</td>\n",
       "      <td>NaN</td>\n",
       "      <td>NaN</td>\n",
       "      <td>NaN</td>\n",
       "      <td>NaN</td>\n",
       "      <td>NaN</td>\n",
       "      <td>NaN</td>\n",
       "    </tr>\n",
       "    <tr>\n",
       "      <th>11204972</th>\n",
       "      <td>2001</td>\n",
       "      <td>12</td>\n",
       "      <td>15</td>\n",
       "      <td>6</td>\n",
       "      <td>708.0</td>\n",
       "      <td>700</td>\n",
       "      <td>1158.0</td>\n",
       "      <td>1155</td>\n",
       "      <td>DL</td>\n",
       "      <td>678</td>\n",
       "      <td>...</td>\n",
       "      <td>0</td>\n",
       "      <td>0</td>\n",
       "      <td>NaN</td>\n",
       "      <td>NaN</td>\n",
       "      <td>NaN</td>\n",
       "      <td>NaN</td>\n",
       "      <td>NaN</td>\n",
       "      <td>NaN</td>\n",
       "      <td>NaN</td>\n",
       "      <td>NaN</td>\n",
       "    </tr>\n",
       "    <tr>\n",
       "      <th>11204973</th>\n",
       "      <td>2001</td>\n",
       "      <td>12</td>\n",
       "      <td>16</td>\n",
       "      <td>7</td>\n",
       "      <td>656.0</td>\n",
       "      <td>700</td>\n",
       "      <td>1147.0</td>\n",
       "      <td>1155</td>\n",
       "      <td>DL</td>\n",
       "      <td>678</td>\n",
       "      <td>...</td>\n",
       "      <td>0</td>\n",
       "      <td>0</td>\n",
       "      <td>NaN</td>\n",
       "      <td>NaN</td>\n",
       "      <td>NaN</td>\n",
       "      <td>NaN</td>\n",
       "      <td>NaN</td>\n",
       "      <td>NaN</td>\n",
       "      <td>NaN</td>\n",
       "      <td>NaN</td>\n",
       "    </tr>\n",
       "    <tr>\n",
       "      <th>11204974</th>\n",
       "      <td>2001</td>\n",
       "      <td>12</td>\n",
       "      <td>17</td>\n",
       "      <td>1</td>\n",
       "      <td>656.0</td>\n",
       "      <td>700</td>\n",
       "      <td>1151.0</td>\n",
       "      <td>1155</td>\n",
       "      <td>DL</td>\n",
       "      <td>678</td>\n",
       "      <td>...</td>\n",
       "      <td>0</td>\n",
       "      <td>0</td>\n",
       "      <td>NaN</td>\n",
       "      <td>NaN</td>\n",
       "      <td>NaN</td>\n",
       "      <td>NaN</td>\n",
       "      <td>NaN</td>\n",
       "      <td>NaN</td>\n",
       "      <td>NaN</td>\n",
       "      <td>NaN</td>\n",
       "    </tr>\n",
       "    <tr>\n",
       "      <th>11204975</th>\n",
       "      <td>2001</td>\n",
       "      <td>12</td>\n",
       "      <td>18</td>\n",
       "      <td>2</td>\n",
       "      <td>709.0</td>\n",
       "      <td>700</td>\n",
       "      <td>1158.0</td>\n",
       "      <td>1155</td>\n",
       "      <td>DL</td>\n",
       "      <td>678</td>\n",
       "      <td>...</td>\n",
       "      <td>0</td>\n",
       "      <td>0</td>\n",
       "      <td>NaN</td>\n",
       "      <td>NaN</td>\n",
       "      <td>NaN</td>\n",
       "      <td>NaN</td>\n",
       "      <td>NaN</td>\n",
       "      <td>NaN</td>\n",
       "      <td>NaN</td>\n",
       "      <td>NaN</td>\n",
       "    </tr>\n",
       "  </tbody>\n",
       "</table>\n",
       "<p>11204976 rows × 31 columns</p>\n",
       "</div>"
      ],
      "text/plain": [
       "          Year  Month  DayofMonth  DayOfWeek  DepTime  CRSDepTime  ArrTime  \\\n",
       "0         2000      1          28          5   1647.0        1647   1906.0   \n",
       "1         2000      1          29          6   1648.0        1647   1939.0   \n",
       "2         2000      1          31          1   1645.0        1647   1852.0   \n",
       "3         2000      1           1          6    842.0         846   1057.0   \n",
       "4         2000      1           2          7    849.0         846   1148.0   \n",
       "...        ...    ...         ...        ...      ...         ...      ...   \n",
       "11204971  2001     12          14          5    704.0         700   1159.0   \n",
       "11204972  2001     12          15          6    708.0         700   1158.0   \n",
       "11204973  2001     12          16          7    656.0         700   1147.0   \n",
       "11204974  2001     12          17          1    656.0         700   1151.0   \n",
       "11204975  2001     12          18          2    709.0         700   1158.0   \n",
       "\n",
       "          CRSArrTime UniqueCarrier  FlightNum  ... Cancelled  Diverted  \\\n",
       "0               1859            HP        154  ...         0         0   \n",
       "1               1859            HP        154  ...         0         0   \n",
       "2               1859            HP        154  ...         0         0   \n",
       "3               1101            HP        609  ...         0         0   \n",
       "4               1101            HP        609  ...         0         0   \n",
       "...              ...           ...        ...  ...       ...       ...   \n",
       "11204971        1155            DL        678  ...         0         0   \n",
       "11204972        1155            DL        678  ...         0         0   \n",
       "11204973        1155            DL        678  ...         0         0   \n",
       "11204974        1155            DL        678  ...         0         0   \n",
       "11204975        1155            DL        678  ...         0         0   \n",
       "\n",
       "                 type      manufacturer  issue_date     model status  \\\n",
       "0         Corporation  AIRBUS INDUSTRIE  10/28/2004  A319-132  Valid   \n",
       "1         Corporation  AIRBUS INDUSTRIE  06/04/2004  A320-232  Valid   \n",
       "2         Corporation  AIRBUS INDUSTRIE  10/21/2004  A319-132  Valid   \n",
       "3         Corporation            BOEING  08/25/1999   737-3G7  Valid   \n",
       "4         Corporation  AIRBUS INDUSTRIE  06/30/2004  A320-232  Valid   \n",
       "...               ...               ...         ...       ...    ...   \n",
       "11204971          NaN               NaN         NaN       NaN    NaN   \n",
       "11204972          NaN               NaN         NaN       NaN    NaN   \n",
       "11204973          NaN               NaN         NaN       NaN    NaN   \n",
       "11204974          NaN               NaN         NaN       NaN    NaN   \n",
       "11204975          NaN               NaN         NaN       NaN    NaN   \n",
       "\n",
       "                    aircraft_type  engine_type  year  \n",
       "0         Fixed Wing Multi-Engine    Turbo-Jet  1999  \n",
       "1         Fixed Wing Multi-Engine    Turbo-Jet  1999  \n",
       "2         Fixed Wing Multi-Engine    Turbo-Jet  1999  \n",
       "3         Fixed Wing Multi-Engine    Turbo-Jet  1987  \n",
       "4         Fixed Wing Multi-Engine    Turbo-Jet  1999  \n",
       "...                           ...          ...   ...  \n",
       "11204971                      NaN          NaN   NaN  \n",
       "11204972                      NaN          NaN   NaN  \n",
       "11204973                      NaN          NaN   NaN  \n",
       "11204974                      NaN          NaN   NaN  \n",
       "11204975                      NaN          NaN   NaN  \n",
       "\n",
       "[11204976 rows x 31 columns]"
      ]
     },
     "execution_count": 41,
     "metadata": {},
     "output_type": "execute_result"
    }
   ],
   "source": [
    "# Left join DfCombine and plane_data_select by TailNum\n",
    "combined_data = pd.merge(DfCombine, plane_data_select, on=\"TailNum\", how=\"left\")\n",
    "combined_data\n"
   ]
  },
  {
   "cell_type": "code",
   "execution_count": 42,
   "metadata": {},
   "outputs": [
    {
     "data": {
      "text/html": [
       "<div>\n",
       "<style scoped>\n",
       "    .dataframe tbody tr th:only-of-type {\n",
       "        vertical-align: middle;\n",
       "    }\n",
       "\n",
       "    .dataframe tbody tr th {\n",
       "        vertical-align: top;\n",
       "    }\n",
       "\n",
       "    .dataframe thead th {\n",
       "        text-align: right;\n",
       "    }\n",
       "</style>\n",
       "<table border=\"1\" class=\"dataframe\">\n",
       "  <thead>\n",
       "    <tr style=\"text-align: right;\">\n",
       "      <th></th>\n",
       "      <th>year</th>\n",
       "      <th>ArrDelay</th>\n",
       "    </tr>\n",
       "  </thead>\n",
       "  <tbody>\n",
       "    <tr>\n",
       "      <th>0</th>\n",
       "      <td>1956</td>\n",
       "      <td>-18.257282</td>\n",
       "    </tr>\n",
       "    <tr>\n",
       "      <th>1</th>\n",
       "      <td>1959</td>\n",
       "      <td>-22.864172</td>\n",
       "    </tr>\n",
       "    <tr>\n",
       "      <th>2</th>\n",
       "      <td>1962</td>\n",
       "      <td>-18.641735</td>\n",
       "    </tr>\n",
       "    <tr>\n",
       "      <th>3</th>\n",
       "      <td>1963</td>\n",
       "      <td>-10.266538</td>\n",
       "    </tr>\n",
       "    <tr>\n",
       "      <th>4</th>\n",
       "      <td>1964</td>\n",
       "      <td>-33.765354</td>\n",
       "    </tr>\n",
       "  </tbody>\n",
       "</table>\n",
       "</div>"
      ],
      "text/plain": [
       "   year   ArrDelay\n",
       "0  1956 -18.257282\n",
       "1  1959 -22.864172\n",
       "2  1962 -18.641735\n",
       "3  1963 -10.266538\n",
       "4  1964 -33.765354"
      ]
     },
     "execution_count": 42,
     "metadata": {},
     "output_type": "execute_result"
    }
   ],
   "source": [
    "# Calculate delay time for each flight\n",
    "combined_data[\"DepDelay\"] = combined_data[\"DepTime\"] - combined_data[\"CRSDepTime\"]\n",
    "combined_data[\"ArrDelay\"] = combined_data[\"ArrTime\"] - combined_data[\"CRSArrTime\"]\n",
    "\n",
    "# Determine average delay time by aircraft type\n",
    "avg_delay_by_year = combined_data.groupby(\"year\")[\"ArrDelay\"].mean().reset_index()\n",
    "avg_delay_by_year.dropna(inplace=True)\n",
    "avg_delay_by_year.head()"
   ]
  },
  {
   "cell_type": "code",
   "execution_count": 43,
   "metadata": {},
   "outputs": [
    {
     "data": {
      "text/html": [
       "<div>\n",
       "<style scoped>\n",
       "    .dataframe tbody tr th:only-of-type {\n",
       "        vertical-align: middle;\n",
       "    }\n",
       "\n",
       "    .dataframe tbody tr th {\n",
       "        vertical-align: top;\n",
       "    }\n",
       "\n",
       "    .dataframe thead th {\n",
       "        text-align: right;\n",
       "    }\n",
       "</style>\n",
       "<table border=\"1\" class=\"dataframe\">\n",
       "  <thead>\n",
       "    <tr style=\"text-align: right;\">\n",
       "      <th></th>\n",
       "      <th>Year</th>\n",
       "      <th>Month</th>\n",
       "      <th>DayofMonth</th>\n",
       "      <th>DayOfWeek</th>\n",
       "      <th>DepTime</th>\n",
       "      <th>CRSDepTime</th>\n",
       "      <th>ArrTime</th>\n",
       "      <th>CRSArrTime</th>\n",
       "      <th>UniqueCarrier</th>\n",
       "      <th>FlightNum</th>\n",
       "      <th>...</th>\n",
       "      <th>Diverted</th>\n",
       "      <th>type</th>\n",
       "      <th>manufacturer</th>\n",
       "      <th>issue_date</th>\n",
       "      <th>model</th>\n",
       "      <th>status</th>\n",
       "      <th>aircraft_type</th>\n",
       "      <th>engine_type</th>\n",
       "      <th>year</th>\n",
       "      <th>age</th>\n",
       "    </tr>\n",
       "  </thead>\n",
       "  <tbody>\n",
       "    <tr>\n",
       "      <th>0</th>\n",
       "      <td>2000</td>\n",
       "      <td>1</td>\n",
       "      <td>28</td>\n",
       "      <td>5</td>\n",
       "      <td>1647.0</td>\n",
       "      <td>1647</td>\n",
       "      <td>1906.0</td>\n",
       "      <td>1859</td>\n",
       "      <td>HP</td>\n",
       "      <td>154</td>\n",
       "      <td>...</td>\n",
       "      <td>0</td>\n",
       "      <td>Corporation</td>\n",
       "      <td>AIRBUS INDUSTRIE</td>\n",
       "      <td>10/28/2004</td>\n",
       "      <td>A319-132</td>\n",
       "      <td>Valid</td>\n",
       "      <td>Fixed Wing Multi-Engine</td>\n",
       "      <td>Turbo-Jet</td>\n",
       "      <td>1999</td>\n",
       "      <td>24</td>\n",
       "    </tr>\n",
       "    <tr>\n",
       "      <th>1</th>\n",
       "      <td>2000</td>\n",
       "      <td>1</td>\n",
       "      <td>29</td>\n",
       "      <td>6</td>\n",
       "      <td>1648.0</td>\n",
       "      <td>1647</td>\n",
       "      <td>1939.0</td>\n",
       "      <td>1859</td>\n",
       "      <td>HP</td>\n",
       "      <td>154</td>\n",
       "      <td>...</td>\n",
       "      <td>0</td>\n",
       "      <td>Corporation</td>\n",
       "      <td>AIRBUS INDUSTRIE</td>\n",
       "      <td>06/04/2004</td>\n",
       "      <td>A320-232</td>\n",
       "      <td>Valid</td>\n",
       "      <td>Fixed Wing Multi-Engine</td>\n",
       "      <td>Turbo-Jet</td>\n",
       "      <td>1999</td>\n",
       "      <td>24</td>\n",
       "    </tr>\n",
       "    <tr>\n",
       "      <th>2</th>\n",
       "      <td>2000</td>\n",
       "      <td>1</td>\n",
       "      <td>31</td>\n",
       "      <td>1</td>\n",
       "      <td>1645.0</td>\n",
       "      <td>1647</td>\n",
       "      <td>1852.0</td>\n",
       "      <td>1859</td>\n",
       "      <td>HP</td>\n",
       "      <td>154</td>\n",
       "      <td>...</td>\n",
       "      <td>0</td>\n",
       "      <td>Corporation</td>\n",
       "      <td>AIRBUS INDUSTRIE</td>\n",
       "      <td>10/21/2004</td>\n",
       "      <td>A319-132</td>\n",
       "      <td>Valid</td>\n",
       "      <td>Fixed Wing Multi-Engine</td>\n",
       "      <td>Turbo-Jet</td>\n",
       "      <td>1999</td>\n",
       "      <td>24</td>\n",
       "    </tr>\n",
       "    <tr>\n",
       "      <th>3</th>\n",
       "      <td>2000</td>\n",
       "      <td>1</td>\n",
       "      <td>1</td>\n",
       "      <td>6</td>\n",
       "      <td>842.0</td>\n",
       "      <td>846</td>\n",
       "      <td>1057.0</td>\n",
       "      <td>1101</td>\n",
       "      <td>HP</td>\n",
       "      <td>609</td>\n",
       "      <td>...</td>\n",
       "      <td>0</td>\n",
       "      <td>Corporation</td>\n",
       "      <td>BOEING</td>\n",
       "      <td>08/25/1999</td>\n",
       "      <td>737-3G7</td>\n",
       "      <td>Valid</td>\n",
       "      <td>Fixed Wing Multi-Engine</td>\n",
       "      <td>Turbo-Jet</td>\n",
       "      <td>1987</td>\n",
       "      <td>36</td>\n",
       "    </tr>\n",
       "    <tr>\n",
       "      <th>4</th>\n",
       "      <td>2000</td>\n",
       "      <td>1</td>\n",
       "      <td>2</td>\n",
       "      <td>7</td>\n",
       "      <td>849.0</td>\n",
       "      <td>846</td>\n",
       "      <td>1148.0</td>\n",
       "      <td>1101</td>\n",
       "      <td>HP</td>\n",
       "      <td>609</td>\n",
       "      <td>...</td>\n",
       "      <td>0</td>\n",
       "      <td>Corporation</td>\n",
       "      <td>AIRBUS INDUSTRIE</td>\n",
       "      <td>06/30/2004</td>\n",
       "      <td>A320-232</td>\n",
       "      <td>Valid</td>\n",
       "      <td>Fixed Wing Multi-Engine</td>\n",
       "      <td>Turbo-Jet</td>\n",
       "      <td>1999</td>\n",
       "      <td>24</td>\n",
       "    </tr>\n",
       "  </tbody>\n",
       "</table>\n",
       "<p>5 rows × 32 columns</p>\n",
       "</div>"
      ],
      "text/plain": [
       "   Year  Month  DayofMonth  DayOfWeek  DepTime  CRSDepTime  ArrTime  \\\n",
       "0  2000      1          28          5   1647.0        1647   1906.0   \n",
       "1  2000      1          29          6   1648.0        1647   1939.0   \n",
       "2  2000      1          31          1   1645.0        1647   1852.0   \n",
       "3  2000      1           1          6    842.0         846   1057.0   \n",
       "4  2000      1           2          7    849.0         846   1148.0   \n",
       "\n",
       "   CRSArrTime UniqueCarrier  FlightNum  ... Diverted         type  \\\n",
       "0        1859            HP        154  ...        0  Corporation   \n",
       "1        1859            HP        154  ...        0  Corporation   \n",
       "2        1859            HP        154  ...        0  Corporation   \n",
       "3        1101            HP        609  ...        0  Corporation   \n",
       "4        1101            HP        609  ...        0  Corporation   \n",
       "\n",
       "       manufacturer  issue_date     model  status            aircraft_type  \\\n",
       "0  AIRBUS INDUSTRIE  10/28/2004  A319-132   Valid  Fixed Wing Multi-Engine   \n",
       "1  AIRBUS INDUSTRIE  06/04/2004  A320-232   Valid  Fixed Wing Multi-Engine   \n",
       "2  AIRBUS INDUSTRIE  10/21/2004  A319-132   Valid  Fixed Wing Multi-Engine   \n",
       "3            BOEING  08/25/1999   737-3G7   Valid  Fixed Wing Multi-Engine   \n",
       "4  AIRBUS INDUSTRIE  06/30/2004  A320-232   Valid  Fixed Wing Multi-Engine   \n",
       "\n",
       "  engine_type  year  age  \n",
       "0   Turbo-Jet  1999   24  \n",
       "1   Turbo-Jet  1999   24  \n",
       "2   Turbo-Jet  1999   24  \n",
       "3   Turbo-Jet  1987   36  \n",
       "4   Turbo-Jet  1999   24  \n",
       "\n",
       "[5 rows x 32 columns]"
      ]
     },
     "execution_count": 43,
     "metadata": {},
     "output_type": "execute_result"
    }
   ],
   "source": [
    "# Replace non-numeric values in the year column with NaN values\n",
    "combined_data[\"year\"].replace(\"None\", np.nan, inplace=True)\n",
    "\n",
    "# Calculate the median value of the year column\n",
    "year_median = combined_data[\"year\"].median()\n",
    "\n",
    "# Replace missing values in the year column with the median value\n",
    "combined_data[\"year\"].fillna(year_median, inplace=True)\n",
    "\n",
    "# Convert the year column to integer type\n",
    "combined_data[\"year\"] = combined_data[\"year\"].astype(int)\n",
    "\n",
    "# Calculate the age of the plane by subtracting the year of manufacture from the current year (2023)\n",
    "combined_data[\"age\"] = 2023 - combined_data[\"year\"]\n",
    "combined_data.head()"
   ]
  },
  {
   "cell_type": "code",
   "execution_count": 48,
   "metadata": {},
   "outputs": [
    {
     "data": {
      "text/html": [
       "<div>\n",
       "<style scoped>\n",
       "    .dataframe tbody tr th:only-of-type {\n",
       "        vertical-align: middle;\n",
       "    }\n",
       "\n",
       "    .dataframe tbody tr th {\n",
       "        vertical-align: top;\n",
       "    }\n",
       "\n",
       "    .dataframe thead th {\n",
       "        text-align: right;\n",
       "    }\n",
       "</style>\n",
       "<table border=\"1\" class=\"dataframe\">\n",
       "  <thead>\n",
       "    <tr style=\"text-align: right;\">\n",
       "      <th></th>\n",
       "      <th>year</th>\n",
       "      <th>is_delayed</th>\n",
       "    </tr>\n",
       "  </thead>\n",
       "  <tbody>\n",
       "    <tr>\n",
       "      <th>0</th>\n",
       "      <td>1956</td>\n",
       "      <td>0.490291</td>\n",
       "    </tr>\n",
       "    <tr>\n",
       "      <th>1</th>\n",
       "      <td>1959</td>\n",
       "      <td>0.440830</td>\n",
       "    </tr>\n",
       "    <tr>\n",
       "      <th>2</th>\n",
       "      <td>1962</td>\n",
       "      <td>0.451758</td>\n",
       "    </tr>\n",
       "    <tr>\n",
       "      <th>3</th>\n",
       "      <td>1963</td>\n",
       "      <td>0.459216</td>\n",
       "    </tr>\n",
       "    <tr>\n",
       "      <th>4</th>\n",
       "      <td>1964</td>\n",
       "      <td>0.425984</td>\n",
       "    </tr>\n",
       "  </tbody>\n",
       "</table>\n",
       "</div>"
      ],
      "text/plain": [
       "   year  is_delayed\n",
       "0  1956    0.490291\n",
       "1  1959    0.440830\n",
       "2  1962    0.451758\n",
       "3  1963    0.459216\n",
       "4  1964    0.425984"
      ]
     },
     "execution_count": 48,
     "metadata": {},
     "output_type": "execute_result"
    }
   ],
   "source": [
    "# Group the data by age and calculate the average delay time\n",
    "delay_by_age = combined_data.groupby(\"age\")[\"ArrDelay\"].mean().reset_index()\n",
    "\n",
    "# Create a new column to indicate whether a flight is delayed or not\n",
    "combined_data[\"is_delayed\"] = np.where(combined_data[\"ArrDelay\"] > 0, 1, 0)\n",
    "\n",
    "# Group the data by year and calculate the proportion of delayed flights\n",
    "delay_prop_by_year = combined_data.groupby(\"year\")[\"is_delayed\"].mean().reset_index()\n",
    "delay_prop_by_year.dropna(inplace=True)\n",
    "delay_prop_by_year.head()"
   ]
  },
  {
   "cell_type": "code",
   "execution_count": 49,
   "metadata": {},
   "outputs": [
    {
     "data": {
      "text/html": [
       "<div>\n",
       "<style scoped>\n",
       "    .dataframe tbody tr th:only-of-type {\n",
       "        vertical-align: middle;\n",
       "    }\n",
       "\n",
       "    .dataframe tbody tr th {\n",
       "        vertical-align: top;\n",
       "    }\n",
       "\n",
       "    .dataframe thead th {\n",
       "        text-align: right;\n",
       "    }\n",
       "</style>\n",
       "<table border=\"1\" class=\"dataframe\">\n",
       "  <thead>\n",
       "    <tr style=\"text-align: right;\">\n",
       "      <th></th>\n",
       "      <th>year</th>\n",
       "      <th>is_delayed</th>\n",
       "    </tr>\n",
       "  </thead>\n",
       "  <tbody>\n",
       "    <tr>\n",
       "      <th>0</th>\n",
       "      <td>1956</td>\n",
       "      <td>0.490291</td>\n",
       "    </tr>\n",
       "    <tr>\n",
       "      <th>1</th>\n",
       "      <td>1959</td>\n",
       "      <td>0.440830</td>\n",
       "    </tr>\n",
       "    <tr>\n",
       "      <th>2</th>\n",
       "      <td>1962</td>\n",
       "      <td>0.451758</td>\n",
       "    </tr>\n",
       "    <tr>\n",
       "      <th>3</th>\n",
       "      <td>1963</td>\n",
       "      <td>0.459216</td>\n",
       "    </tr>\n",
       "    <tr>\n",
       "      <th>4</th>\n",
       "      <td>1964</td>\n",
       "      <td>0.425984</td>\n",
       "    </tr>\n",
       "  </tbody>\n",
       "</table>\n",
       "</div>"
      ],
      "text/plain": [
       "   year  is_delayed\n",
       "0  1956    0.490291\n",
       "1  1959    0.440830\n",
       "2  1962    0.451758\n",
       "3  1963    0.459216\n",
       "4  1964    0.425984"
      ]
     },
     "execution_count": 49,
     "metadata": {},
     "output_type": "execute_result"
    }
   ],
   "source": [
    "# Filter out rows with year values of 2002 and 2007, and NaN\n",
    "delay_prop_by_year = delay_prop_by_year.dropna(subset=['year'])\n",
    "delay_prop_by_year = delay_prop_by_year[~delay_prop_by_year['year'].isin([2002, 2007])]\n",
    "delay_prop_by_year.head()"
   ]
  },
  {
   "cell_type": "code",
   "execution_count": 50,
   "metadata": {},
   "outputs": [
    {
     "data": {
      "image/png": "[encoded data removed]",
      "text/plain": [
       "<Figure size 432x288 with 1 Axes>"
      ]
     },
     "metadata": {
      "needs_background": "light"
     },
     "output_type": "display_data"
    }
   ],
   "source": [
    "# Create a line plot with x-axis interval of 5 years\n",
    "plt.plot(delay_prop_by_year[\"year\"], delay_prop_by_year[\"is_delayed\"])\n",
    "plt.xticks(np.arange(1955, 2005, step=4))\n",
    "plt.xlabel(\"Year\")\n",
    "plt.ylabel(\"Proportion of Delayed Flights\")\n",
    "plt.title(\"Proportion of Delayed Flights by Manufacturing Year\")\n",
    "plt.show()"
   ]
  },
  {
   "cell_type": "markdown",
   "metadata": {},
   "source": [
    "Based of the graph, this shows that flights delays are not affected by the age of the plane alone and may have several other factors that may influence this delay. "
   ]
  },
  {
   "cell_type": "markdown",
   "metadata": {
    "id": "bQFCkMuScXVc"
   },
   "source": [
    "## 3. How does the number of people flying between different locations change over time?"
   ]
  },
  {
   "cell_type": "markdown",
   "metadata": {
    "id": "e_LXLwQiNHbS"
   },
   "source": [
    "For this, we have to check which are the most repeated destination and origin over the time and how it changes from 2000 to 2001. "
   ]
  },
  {
   "cell_type": "code",
   "execution_count": null,
   "metadata": {
    "colab": {
     "base_uri": "https://localhost:8080/"
    },
    "id": "rogOWrCRcYMx",
    "outputId": "4d65f611-6ad8-4384-b5c5-9df60ecf0452"
   },
   "outputs": [
    {
     "data": {
      "text/plain": [
       "['ORD',\n",
       " 'ATL',\n",
       " 'DFW',\n",
       " 'LAX',\n",
       " 'PHX',\n",
       " 'STL',\n",
       " 'DTW',\n",
       " 'MSP',\n",
       " 'LAS',\n",
       " 'DEN',\n",
       " 'IAH',\n",
       " 'SFO',\n",
       " 'CLT',\n",
       " 'EWR',\n",
       " 'PHL']"
      ]
     },
     "execution_count": 158,
     "metadata": {},
     "output_type": "execute_result"
    }
   ],
   "source": [
    "Dfdf2000Clean['Origin'].value_counts()[:15].index.tolist() "
   ]
  },
  {
   "cell_type": "code",
   "execution_count": null,
   "metadata": {
    "colab": {
     "base_uri": "https://localhost:8080/"
    },
    "id": "sJqAwJNVcaCd",
    "outputId": "76798834-5016-413b-e3cc-d957df60c0d8"
   },
   "outputs": [
    {
     "data": {
      "text/plain": [
       "['ORD',\n",
       " 'DFW',\n",
       " 'ATL',\n",
       " 'LAX',\n",
       " 'PHX',\n",
       " 'STL',\n",
       " 'DTW',\n",
       " 'MSP',\n",
       " 'LAS',\n",
       " 'DEN',\n",
       " 'IAH',\n",
       " 'CLT',\n",
       " 'BOS',\n",
       " 'SFO',\n",
       " 'EWR']"
      ]
     },
     "execution_count": 159,
     "metadata": {},
     "output_type": "execute_result"
    }
   ],
   "source": [
    "Df2001Clean['Origin'].value_counts()[:15].index.tolist() "
   ]
  },
  {
   "cell_type": "markdown",
   "metadata": {
    "id": "ZGgXrHNhn0a0"
   },
   "source": [
    "Above are the top 10 most repeated origin in ascending order for 2000 and 2001. It is clear from the above results, that ORD is the most repeated origin in both 2000 and 2001. But at spot 2 in 2000, we have \"ATL\" as the most repeated while in 2001, it is been taken over by \"DFW\". It illustrates that in 2001, \"DFW\" become most popular than \"ATL\". Such changes can be seen in later airport as well. "
   ]
  },
  {
   "cell_type": "code",
   "execution_count": null,
   "metadata": {
    "colab": {
     "base_uri": "https://localhost:8080/"
    },
    "id": "9mz-rBT_caGN",
    "outputId": "0b260d4b-f4ba-4c0c-9142-93d070fe55a6"
   },
   "outputs": [
    {
     "data": {
      "text/plain": [
       "['ORD',\n",
       " 'ATL',\n",
       " 'DFW',\n",
       " 'LAX',\n",
       " 'PHX',\n",
       " 'STL',\n",
       " 'DTW',\n",
       " 'MSP',\n",
       " 'LAS',\n",
       " 'DEN',\n",
       " 'IAH',\n",
       " 'SFO',\n",
       " 'CLT',\n",
       " 'EWR',\n",
       " 'PHL']"
      ]
     },
     "execution_count": 160,
     "metadata": {},
     "output_type": "execute_result"
    }
   ],
   "source": [
    "Dfdf2000Clean['Dest'].value_counts()[:15].index.tolist() "
   ]
  },
  {
   "cell_type": "code",
   "execution_count": null,
   "metadata": {
    "colab": {
     "base_uri": "https://localhost:8080/"
    },
    "id": "_pZ5Mk1GoZOn",
    "outputId": "f136928f-ea0b-421e-ebe0-e13c6ec4b3dc"
   },
   "outputs": [
    {
     "data": {
      "text/plain": [
       "['ORD',\n",
       " 'DFW',\n",
       " 'ATL',\n",
       " 'LAX',\n",
       " 'PHX',\n",
       " 'STL',\n",
       " 'DTW',\n",
       " 'MSP',\n",
       " 'LAS',\n",
       " 'DEN',\n",
       " 'IAH',\n",
       " 'CLT',\n",
       " 'BOS',\n",
       " 'SFO',\n",
       " 'EWR']"
      ]
     },
     "execution_count": 161,
     "metadata": {},
     "output_type": "execute_result"
    }
   ],
   "source": [
    "Df2001Clean['Dest'].value_counts()[:15].index.tolist() "
   ]
  },
  {
   "cell_type": "markdown",
   "metadata": {
    "id": "yQ5ekdConzua"
   },
   "source": [
    "Above results are the most repeated destination for both year. In tha similar way as origin, the 'DFW\" has taken over \"ATL\" as most popular destination as well. "
   ]
  },
  {
   "cell_type": "markdown",
   "metadata": {
    "id": "pdrzQAlbcasL"
   },
   "source": [
    "## 4. Can you detect cascading failures as delays in one airport create delays in others?"
   ]
  },
  {
   "cell_type": "markdown",
   "metadata": {
    "id": "rfjsOGmgpB2T"
   },
   "source": [
    "For this project, we will chose year 2000 and the relationship between departure delay (first airport) will be checked with the relationship with arrival delay (second airport)."
   ]
  },
  {
   "cell_type": "code",
   "execution_count": null,
   "metadata": {
    "colab": {
     "base_uri": "https://localhost:8080/",
     "height": 404
    },
    "id": "kTWtjv87cnl7",
    "outputId": "f7b888aa-03b5-427f-f765-144d72e0fc22"
   },
   "outputs": [
    {
     "data": {
      "image/png": "[encoded data removed]",
      "text/plain": [
       "<Figure size 864x432 with 1 Axes>"
      ]
     },
     "metadata": {
      "needs_background": "light"
     },
     "output_type": "display_data"
    }
   ],
   "source": [
    "plt.figure(figsize = (12,6))\n",
    "plt.scatter(Dfdf2000Clean['DepDelay'], Dfdf2000Clean['ArrDelay'])\n",
    "plt.title(\"Relationship beween Departure Delay and Arrival Delay\")\n",
    "plt.xlabel(\"Departure Delay\")\n",
    "plt.ylabel(\"Arrival Delay\")\n",
    "plt.show()"
   ]
  },
  {
   "cell_type": "markdown",
   "metadata": {
    "id": "oQoFx16_Rjuz"
   },
   "source": [
    "This clearly shows that the there is a positive direct relationship between departure delay and arrival delay. It also illustrates that delay at one airport due to multiple reason could cause delay in another aiport as well. "
   ]
  },
  {
   "cell_type": "code",
   "execution_count": null,
   "metadata": {
    "id": "RNn6IAtKcnoW"
   },
   "outputs": [],
   "source": []
  },
  {
   "cell_type": "markdown",
   "metadata": {
    "id": "DhrCJ59ocnvI"
   },
   "source": [
    "## 5. Use the available variables to construct a model that predicts delays"
   ]
  },
  {
   "cell_type": "code",
   "execution_count": null,
   "metadata": {
    "id": "3JWUvzg8coeq"
   },
   "outputs": [],
   "source": [
    "from sklearn.linear_model import LinearRegression\n",
    "from sklearn.model_selection import train_test_split\n",
    "from sklearn import metrics\n",
    "import seaborn as sns"
   ]
  },
  {
   "cell_type": "code",
   "execution_count": null,
   "metadata": {
    "colab": {
     "base_uri": "https://localhost:8080/",
     "height": 789
    },
    "id": "SYfJ4DSYHJTL",
    "outputId": "e0f1a7ad-bc56-4ac9-e164-a3e3fbc716f0"
   },
   "outputs": [
    {
     "data": {
      "image/png": "[encoded data removed]",
      "text/plain": [
       "<Figure size 1296x864 with 2 Axes>"
      ]
     },
     "metadata": {
      "needs_background": "light"
     },
     "output_type": "display_data"
    }
   ],
   "source": [
    "corr = df2000.corr()\n",
    "plt.figure(figsize = (18,12))\n",
    "# Create a heatmap using seaborn\n",
    "sns.heatmap(corr, cmap='coolwarm', center=0, annot=True)\n",
    "\n",
    "# Show the plot\n",
    "plt.show()"
   ]
  },
  {
   "cell_type": "markdown",
   "metadata": {
    "id": "8_y5KGtpHtlI"
   },
   "source": [
    "Based on above figure, we need to keep few attributes for model while remove all others that are either less important or not important."
   ]
  },
  {
   "cell_type": "code",
   "execution_count": null,
   "metadata": {
    "id": "p2BdTeascpjO"
   },
   "outputs": [],
   "source": [
    "modelData = df2000[['TaxiOut','DepDelay', 'CRSArrTime','DepTime','CRSDepTime','ArrDelay']]"
   ]
  },
  {
   "cell_type": "code",
   "execution_count": null,
   "metadata": {
    "colab": {
     "base_uri": "https://localhost:8080/",
     "height": 324
    },
    "id": "9j1K9mrUcpmk",
    "outputId": "f647ce1a-fa0d-4f91-a86d-05e0d2a57da0"
   },
   "outputs": [
    {
     "data": {
      "image/png": "[encoded data removed]",
      "text/plain": [
       "<Figure size 432x288 with 2 Axes>"
      ]
     },
     "metadata": {
      "needs_background": "light"
     },
     "output_type": "display_data"
    }
   ],
   "source": [
    "modelData = modelData.dropna(axis=0, how='any')\n",
    "corr = modelData.corr()\n",
    "\n",
    "# Create a heatmap using seaborn\n",
    "sns.heatmap(corr, cmap='coolwarm', center=0, annot=True)\n",
    "\n",
    "# Show the plot\n",
    "plt.show()"
   ]
  },
  {
   "cell_type": "code",
   "execution_count": null,
   "metadata": {
    "id": "HLSFgM59cpqv"
   },
   "outputs": [],
   "source": [
    "# Extracting the predictive variables\n",
    "X = modelData[['TaxiOut','DepDelay', 'CRSArrTime','DepTime','CRSDepTime']]\n",
    "\n",
    "# Extracting only the prediction variable\n",
    "y = modelData['ArrDelay']"
   ]
  },
  {
   "cell_type": "code",
   "execution_count": null,
   "metadata": {
    "colab": {
     "base_uri": "https://localhost:8080/"
    },
    "id": "64DkJlC0uRlb",
    "outputId": "07e39c73-1162-40e9-b8cf-cdc8d691612d"
   },
   "outputs": [
    {
     "name": "stdout",
     "output_type": "stream",
     "text": [
      "The shape of training features is: (4385042, 5)\n",
      "The shape of testing features is: (1096261, 5)\n"
     ]
    }
   ],
   "source": [
    "# Splitting the dataset into training and testing\n",
    "X_train, X_test, y_train, y_test = train_test_split(X, y, test_size=0.2, random_state=0)\n",
    "print('The shape of training features is:', X_train.shape)\n",
    "print('The shape of testing features is:', X_test.shape)\n"
   ]
  },
  {
   "cell_type": "code",
   "execution_count": null,
   "metadata": {
    "id": "7U1_W198IpIp"
   },
   "outputs": [],
   "source": [
    "model = LinearRegression()"
   ]
  },
  {
   "cell_type": "code",
   "execution_count": null,
   "metadata": {
    "colab": {
     "base_uri": "https://localhost:8080/",
     "height": 75
    },
    "id": "S6vIvzn2IpMQ",
    "outputId": "4bb1a859-c271-44b4-9bd5-48fffbd152d8"
   },
   "outputs": [
    {
     "data": {
      "text/html": [
       "<style>#sk-container-id-4 {color: black;background-color: white;}#sk-container-id-4 pre{padding: 0;}#sk-container-id-4 div.sk-toggleable {background-color: white;}#sk-container-id-4 label.sk-toggleable__label {cursor: pointer;display: block;width: 100%;margin-bottom: 0;padding: 0.3em;box-sizing: border-box;text-align: center;}#sk-container-id-4 label.sk-toggleable__label-arrow:before {content: \"▸\";float: left;margin-right: 0.25em;color: #696969;}#sk-container-id-4 label.sk-toggleable__label-arrow:hover:before {color: black;}#sk-container-id-4 div.sk-estimator:hover label.sk-toggleable__label-arrow:before {color: black;}#sk-container-id-4 div.sk-toggleable__content {max-height: 0;max-width: 0;overflow: hidden;text-align: left;background-color: #f0f8ff;}#sk-container-id-4 div.sk-toggleable__content pre {margin: 0.2em;color: black;border-radius: 0.25em;background-color: #f0f8ff;}#sk-container-id-4 input.sk-toggleable__control:checked~div.sk-toggleable__content {max-height: 200px;max-width: 100%;overflow: auto;}#sk-container-id-4 input.sk-toggleable__control:checked~label.sk-toggleable__label-arrow:before {content: \"▾\";}#sk-container-id-4 div.sk-estimator input.sk-toggleable__control:checked~label.sk-toggleable__label {background-color: #d4ebff;}#sk-container-id-4 div.sk-label input.sk-toggleable__control:checked~label.sk-toggleable__label {background-color: #d4ebff;}#sk-container-id-4 input.sk-hidden--visually {border: 0;clip: rect(1px 1px 1px 1px);clip: rect(1px, 1px, 1px, 1px);height: 1px;margin: -1px;overflow: hidden;padding: 0;position: absolute;width: 1px;}#sk-container-id-4 div.sk-estimator {font-family: monospace;background-color: #f0f8ff;border: 1px dotted black;border-radius: 0.25em;box-sizing: border-box;margin-bottom: 0.5em;}#sk-container-id-4 div.sk-estimator:hover {background-color: #d4ebff;}#sk-container-id-4 div.sk-parallel-item::after {content: \"\";width: 100%;border-bottom: 1px solid gray;flex-grow: 1;}#sk-container-id-4 div.sk-label:hover label.sk-toggleable__label {background-color: #d4ebff;}#sk-container-id-4 div.sk-serial::before {content: \"\";position: absolute;border-left: 1px solid gray;box-sizing: border-box;top: 0;bottom: 0;left: 50%;z-index: 0;}#sk-container-id-4 div.sk-serial {display: flex;flex-direction: column;align-items: center;background-color: white;padding-right: 0.2em;padding-left: 0.2em;position: relative;}#sk-container-id-4 div.sk-item {position: relative;z-index: 1;}#sk-container-id-4 div.sk-parallel {display: flex;align-items: stretch;justify-content: center;background-color: white;position: relative;}#sk-container-id-4 div.sk-item::before, #sk-container-id-4 div.sk-parallel-item::before {content: \"\";position: absolute;border-left: 1px solid gray;box-sizing: border-box;top: 0;bottom: 0;left: 50%;z-index: -1;}#sk-container-id-4 div.sk-parallel-item {display: flex;flex-direction: column;z-index: 1;position: relative;background-color: white;}#sk-container-id-4 div.sk-parallel-item:first-child::after {align-self: flex-end;width: 50%;}#sk-container-id-4 div.sk-parallel-item:last-child::after {align-self: flex-start;width: 50%;}#sk-container-id-4 div.sk-parallel-item:only-child::after {width: 0;}#sk-container-id-4 div.sk-dashed-wrapped {border: 1px dashed gray;margin: 0 0.4em 0.5em 0.4em;box-sizing: border-box;padding-bottom: 0.4em;background-color: white;}#sk-container-id-4 div.sk-label label {font-family: monospace;font-weight: bold;display: inline-block;line-height: 1.2em;}#sk-container-id-4 div.sk-label-container {text-align: center;}#sk-container-id-4 div.sk-container {/* jupyter's `normalize.less` sets `[hidden] { display: none; }` but bootstrap.min.css set `[hidden] { display: none !important; }` so we also need the `!important` here to be able to override the default hidden behavior on the sphinx rendered scikit-learn.org. See: https://github.com/scikit-learn/scikit-learn/issues/21755 */display: inline-block !important;position: relative;}#sk-container-id-4 div.sk-text-repr-fallback {display: none;}</style><div id=\"sk-container-id-4\" class=\"sk-top-container\"><div class=\"sk-text-repr-fallback\"><pre>LinearRegression()</pre><b>In a Jupyter environment, please rerun this cell to show the HTML representation or trust the notebook. <br />On GitHub, the HTML representation is unable to render, please try loading this page with nbviewer.org.</b></div><div class=\"sk-container\" hidden><div class=\"sk-item\"><div class=\"sk-estimator sk-toggleable\"><input class=\"sk-toggleable__control sk-hidden--visually\" id=\"sk-estimator-id-4\" type=\"checkbox\" checked><label for=\"sk-estimator-id-4\" class=\"sk-toggleable__label sk-toggleable__label-arrow\">LinearRegression</label><div class=\"sk-toggleable__content\"><pre>LinearRegression()</pre></div></div></div></div></div>"
      ],
      "text/plain": [
       "LinearRegression()"
      ]
     },
     "execution_count": 170,
     "metadata": {},
     "output_type": "execute_result"
    }
   ],
   "source": [
    "model.fit(X_train, y_train)"
   ]
  },
  {
   "cell_type": "code",
   "execution_count": null,
   "metadata": {
    "id": "aLZOMt_gIpQV"
   },
   "outputs": [],
   "source": [
    "# Make predictions on the test data\n",
    "ypred = model.predict(X_test)"
   ]
  },
  {
   "cell_type": "code",
   "execution_count": null,
   "metadata": {
    "colab": {
     "base_uri": "https://localhost:8080/"
    },
    "id": "QE4UnExCJKGV",
    "outputId": "da2c677c-915c-46e1-fe10-d1bee96dd1bd"
   },
   "outputs": [
    {
     "name": "stdout",
     "output_type": "stream",
     "text": [
      "Mean Squared Error: 160.39688524861938\n",
      "R-squared: 0.8767932839354801\n"
     ]
    }
   ],
   "source": [
    "from sklearn.metrics import mean_squared_error, r2_score\n",
    "\n",
    "# Calculate mean squared error\n",
    "mse = mean_squared_error(y_test, ypred)\n",
    "\n",
    "# Calculate R-squared\n",
    "r2 = r2_score(y_test, ypred)\n",
    "\n",
    "print(\"Mean Squared Error:\", mse)\n",
    "print(\"R-squared:\", r2)"
   ]
  },
  {
   "cell_type": "code",
   "execution_count": null,
   "metadata": {
    "colab": {
     "base_uri": "https://localhost:8080/"
    },
    "id": "_odznRYlJydI",
    "outputId": "0f143b75-7f3c-414d-8a56-4521b409b53f"
   },
   "outputs": [
    {
     "data": {
      "text/plain": [
       "array([100.19058934,  12.45964236,   4.08476475, ...,   2.61434552,\n",
       "        92.75937611,  25.29934476])"
      ]
     },
     "execution_count": 173,
     "metadata": {},
     "output_type": "execute_result"
    }
   ],
   "source": [
    "# The predicted values is\n",
    "ypred"
   ]
  },
  {
   "cell_type": "code",
   "execution_count": null,
   "metadata": {
    "id": "PJhk6ggLuRx1"
   },
   "outputs": [],
   "source": []
  }
 ],
 "metadata": {
  "colab": {
   "machine_shape": "hm",
   "provenance": []
  },
  "gpuClass": "standard",
  "kernelspec": {
   "display_name": "Python 3 (ipykernel)",
   "language": "python",
   "name": "python3"
  },
  "language_info": {
   "codemirror_mode": {
    "name": "ipython",
    "version": 3
   },
   "file_extension": ".py",
   "mimetype": "text/x-python",
   "name": "python",
   "nbconvert_exporter": "python",
   "pygments_lexer": "ipython3",
   "version": "3.9.12"
  }
 },
 "nbformat": 4,
 "nbformat_minor": 1
}
